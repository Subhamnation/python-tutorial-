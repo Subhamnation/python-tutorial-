{
 "cells": [
  {
   "cell_type": "markdown",
   "id": "60685756",
   "metadata": {},
   "source": [
    "### The Filter Function() in python "
   ]
  },
  {
   "cell_type": "code",
   "execution_count": 1,
   "id": "e461e1fc",
   "metadata": {},
   "outputs": [],
   "source": [
    "# The filter function:\n",
    "# \n",
    "# The filter function in Python is used to filter elements from an iterable (like a list or tuple) based on a specified condition. It takes two arguments: a function that defines the condition and an iterable to be filtered. The function should return True for elements that should be included in the result and False for those that should be excluded. The filter function returns an iterator, which can be converted to a list or other iterable types."
   ]
  },
  {
   "cell_type": "code",
   "execution_count": 2,
   "id": "6f8b506f",
   "metadata": {},
   "outputs": [
    {
     "data": {
      "text/plain": [
       "True"
      ]
     },
     "execution_count": 2,
     "metadata": {},
     "output_type": "execute_result"
    }
   ],
   "source": [
    "def even(num):\n",
    "    if num % 2 == 0:\n",
    "        return True\n",
    "    \n",
    "even(24)"
   ]
  },
  {
   "cell_type": "code",
   "execution_count": 3,
   "id": "2e55be2c",
   "metadata": {},
   "outputs": [
    {
     "name": "stdout",
     "output_type": "stream",
     "text": [
      "[2, 4, 6, 8, 10, 12, 14]\n"
     ]
    }
   ],
   "source": [
    "lst = [1, 2, 3, 4, 5, 6, 7, 8, 9, 10, 11, 12, 13, 14, 15]\n",
    "even_num = list(filter(even, lst))\n",
    "print(even_num)"
   ]
  },
  {
   "cell_type": "code",
   "execution_count": 4,
   "id": "9ef9d3fd",
   "metadata": {},
   "outputs": [
    {
     "name": "stdout",
     "output_type": "stream",
     "text": [
      "[6, 7, 8, 9, 10]\n"
     ]
    }
   ],
   "source": [
    "# Filter function with lambda\n",
    "\n",
    "numbers = [1, 2, 3, 4, 5, 6, 7, 8, 9, 10]\n",
    "greater_than_five = list(filter(lambda x: x>5, numbers ))\n",
    "print(greater_than_five)"
   ]
  },
  {
   "cell_type": "code",
   "execution_count": 5,
   "id": "e7006f43",
   "metadata": {},
   "outputs": [
    {
     "name": "stdout",
     "output_type": "stream",
     "text": [
      "[6, 8, 10, 12, 14]\n"
     ]
    }
   ],
   "source": [
    "# Filter function with lambda and multple conditions\n",
    "\n",
    "numbers = [1, 2, 3, 4, 5, 6, 7, 8, 9, 10, 11, 12, 13, 14, 15]\n",
    "\n",
    "even_and_greater_than_five = list(filter(lambda x: x%2==0 and x>5, numbers))\n",
    "print(even_and_greater_than_five)"
   ]
  },
  {
   "cell_type": "code",
   "execution_count": 6,
   "id": "1862ccca",
   "metadata": {},
   "outputs": [
    {
     "name": "stdout",
     "output_type": "stream",
     "text": [
      "[{'name': 'Alice', 'age': 30}, {'name': 'David', 'age': 28}]\n"
     ]
    }
   ],
   "source": [
    "# Filter() to check if the age is greter than 25 in dictionaries \n",
    "\n",
    "people =[\n",
    "    {'name': 'Alice', 'age': 30},\n",
    "    {'name': 'Bob', 'age': 22},\n",
    "    {'name': 'Charlie', 'age': 25},\n",
    "    {'name': 'David', 'age': 28}\n",
    "]\n",
    "\n",
    "def age_greater_than_25(person):\n",
    "    return person['age'] > 25\n",
    "\n",
    "filtered_people = list(filter(age_greater_than_25, people))\n",
    "print(filtered_people)"
   ]
  },
  {
   "cell_type": "markdown",
   "id": "5064b559",
   "metadata": {},
   "source": [
    "### Conclusion and Summary:\n",
    "# The filter function is a powerful tool in Python for filtering elements from an iterable based on specified conditions. It can be used with both named functions and lambda functions, allowing for flexible and concise filtering operations.\n",
    "# Key takeaways:\n",
    "# 1. The filter function takes a function and an iterable as arguments.\n",
    "# 2. The function should return True for elements to be included in the result.\n",
    "# 3. The filter function returns an iterator, which can be converted to a list or other iterable types.\n",
    "# 4. Lambda functions can be used for concise filtering conditions.\n",
    "\n"
   ]
  },
  {
   "cell_type": "code",
   "execution_count": null,
   "id": "a1bfa593",
   "metadata": {},
   "outputs": [],
   "source": []
  }
 ],
 "metadata": {
  "kernelspec": {
   "display_name": "open3d_env",
   "language": "python",
   "name": "python3"
  },
  "language_info": {
   "codemirror_mode": {
    "name": "ipython",
    "version": 3
   },
   "file_extension": ".py",
   "mimetype": "text/x-python",
   "name": "python",
   "nbconvert_exporter": "python",
   "pygments_lexer": "ipython3",
   "version": "3.10.16"
  }
 },
 "nbformat": 4,
 "nbformat_minor": 5
}
