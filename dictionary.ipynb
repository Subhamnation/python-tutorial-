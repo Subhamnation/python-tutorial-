{
 "cells": [
  {
   "cell_type": "markdown",
   "id": "0596edbc",
   "metadata": {},
   "source": [
    "### What is dictionary?\n",
    "\n",
    "##### A dictionary is a collection of key-value pairs. Each key is unique and is used to access its corresponding value. Dictionaries are mutable, meaning they can be changed after their creation. They are commonly used to store data in a structured way, allowing for efficient retrieval and modification."
   ]
  },
  {
   "cell_type": "code",
   "execution_count": 16,
   "id": "aa694175",
   "metadata": {},
   "outputs": [
    {
     "name": "stdout",
     "output_type": "stream",
     "text": [
      "{}\n"
     ]
    }
   ],
   "source": [
    "# create a dictionary\n",
    "\n",
    "empty_dict = {}\n",
    "print(empty_dict)  "
   ]
  },
  {
   "cell_type": "code",
   "execution_count": 17,
   "id": "855df820",
   "metadata": {},
   "outputs": [
    {
     "name": "stdout",
     "output_type": "stream",
     "text": [
      "{'name': 'John', 'age': 21, 'grade': 24}\n",
      "<class 'type'>\n"
     ]
    }
   ],
   "source": [
    "student = {\"name\": \"John\", \"age\": 21, \"grade\":24}\n",
    "print(student)\n",
    "print(type)"
   ]
  },
  {
   "cell_type": "code",
   "execution_count": 18,
   "id": "6f1a72ac",
   "metadata": {},
   "outputs": [
    {
     "name": "stdout",
     "output_type": "stream",
     "text": [
      "{'name': 'John', 'age': 21, 'grade': 24}\n"
     ]
    }
   ],
   "source": [
    "#Error \n",
    "#student = {\"name\": \"John\", \"age\": 21, \"name\":24}\n",
    "print(student)"
   ]
  },
  {
   "cell_type": "code",
   "execution_count": 19,
   "id": "e04621c0",
   "metadata": {},
   "outputs": [
    {
     "name": "stdout",
     "output_type": "stream",
     "text": [
      "John\n",
      "21\n",
      "24\n"
     ]
    }
   ],
   "source": [
    "## Accessing dictionary elements\n",
    "print(student[\"name\"])\n",
    "print(student[\"age\"])\n",
    "print(student[\"grade\"])"
   ]
  },
  {
   "cell_type": "code",
   "execution_count": 20,
   "id": "9df0a9ca",
   "metadata": {},
   "outputs": [
    {
     "name": "stdout",
     "output_type": "stream",
     "text": [
      "John\n",
      "21\n",
      "24\n"
     ]
    }
   ],
   "source": [
    "### Accessing using get() method\n",
    "print(student.get(\"name\"))\n",
    "print(student.get(\"age\"))\n",
    "print(student.get(\"grade\"))"
   ]
  },
  {
   "cell_type": "code",
   "execution_count": 21,
   "id": "c8cce96a",
   "metadata": {},
   "outputs": [
    {
     "name": "stdout",
     "output_type": "stream",
     "text": [
      "None\n",
      "Not Found\n"
     ]
    }
   ],
   "source": [
    "print(student.get('last_name'))  # Returns None if key doesn't exist\n",
    "print(student.get('last_name', 'Not Found'))  # Returns 'Not Found' if"
   ]
  },
  {
   "cell_type": "code",
   "execution_count": 22,
   "id": "76d82a16",
   "metadata": {},
   "outputs": [
    {
     "name": "stdout",
     "output_type": "stream",
     "text": [
      "{'name': 'John', 'age': 21, 'grade': 24}\n"
     ]
    }
   ],
   "source": [
    "### Modifying dictionary elements\n",
    "\n",
    "## Dictionaries are mutable, so we can change their content\n",
    "print(student)"
   ]
  },
  {
   "cell_type": "code",
   "execution_count": null,
   "id": "9affa27b",
   "metadata": {},
   "outputs": [
    {
     "name": "stdout",
     "output_type": "stream",
     "text": [
      "{'name': 'John', 'age': 32, 'grade': 24}\n"
     ]
    }
   ],
   "source": [
    "student['age'] = 32 # updated age\n",
    "print(student)\n",
    "\n"
   ]
  },
  {
   "cell_type": "code",
   "execution_count": 24,
   "id": "8b296953",
   "metadata": {},
   "outputs": [
    {
     "name": "stdout",
     "output_type": "stream",
     "text": [
      "{'name': 'John', 'age': 32, 'grade': 24, 'address': 'India'}\n"
     ]
    }
   ],
   "source": [
    "student['address'] = \"India\" # added new key-value pair\n",
    "print(student)"
   ]
  },
  {
   "cell_type": "code",
   "execution_count": 25,
   "id": "b68d0480",
   "metadata": {},
   "outputs": [
    {
     "name": "stdout",
     "output_type": "stream",
     "text": [
      "{'name': 'John', 'age': 32, 'address': 'India'}\n"
     ]
    }
   ],
   "source": [
    "# Delete key-value pair\n",
    "\n",
    "del student['grade']\n",
    "print(student)"
   ]
  },
  {
   "cell_type": "code",
   "execution_count": 28,
   "id": "74603f4a",
   "metadata": {},
   "outputs": [
    {
     "name": "stdout",
     "output_type": "stream",
     "text": [
      "dict_keys(['name', 'age', 'address'])\n"
     ]
    }
   ],
   "source": [
    "### Dictionary methods\n",
    "\n",
    "keys = student.keys() # get all keys\n",
    "print(keys)"
   ]
  },
  {
   "cell_type": "code",
   "execution_count": 29,
   "id": "ea5196e2",
   "metadata": {},
   "outputs": [
    {
     "name": "stdout",
     "output_type": "stream",
     "text": [
      "dict_values(['John', 32, 'India'])\n"
     ]
    }
   ],
   "source": [
    "values = student.values() # get all values\n",
    "print(values)"
   ]
  },
  {
   "cell_type": "code",
   "execution_count": 30,
   "id": "eb4a8f1e",
   "metadata": {},
   "outputs": [
    {
     "name": "stdout",
     "output_type": "stream",
     "text": [
      "dict_items([('name', 'John'), ('age', 32), ('address', 'India')])\n"
     ]
    }
   ],
   "source": [
    "items  = student.items() # get all key-value pairs\n",
    "print(items)"
   ]
  },
  {
   "cell_type": "code",
   "execution_count": 31,
   "id": "0955c97d",
   "metadata": {},
   "outputs": [
    {
     "name": "stdout",
     "output_type": "stream",
     "text": [
      "{'name': 'John', 'age': 32, 'address': 'India'}\n",
      "{'name': 'John', 'age': 32, 'address': 'India'}\n"
     ]
    }
   ],
   "source": [
    "## Shallow copy \n",
    "\n",
    "student_copy = student\n",
    "print(student)\n",
    "print(student_copy)"
   ]
  },
  {
   "cell_type": "code",
   "execution_count": 32,
   "id": "5387e99a",
   "metadata": {},
   "outputs": [
    {
     "name": "stdout",
     "output_type": "stream",
     "text": [
      "{'name': 'Subham', 'age': 32, 'address': 'India'}\n",
      "{'name': 'Subham', 'age': 32, 'address': 'India'}\n"
     ]
    }
   ],
   "source": [
    "student['name'] = \"Subham\"\n",
    "print(student)\n",
    "print(student_copy)"
   ]
  },
  {
   "cell_type": "code",
   "execution_count": 33,
   "id": "16c4944d",
   "metadata": {},
   "outputs": [
    {
     "name": "stdout",
     "output_type": "stream",
     "text": [
      "{'name': 'Subham', 'age': 32, 'address': 'India'}\n",
      "{'name': 'Subham', 'age': 32, 'address': 'India'}\n"
     ]
    }
   ],
   "source": [
    "student_copy1 = student.copy()\n",
    "print(student)\n",
    "print(student_copy1)"
   ]
  },
  {
   "cell_type": "code",
   "execution_count": 37,
   "id": "8958cc4e",
   "metadata": {},
   "outputs": [
    {
     "name": "stdout",
     "output_type": "stream",
     "text": [
      "{'name': 'Devdas', 'age': 32, 'address': 'India'}\n",
      "{'name': 'Subham', 'age': 32, 'address': 'India'}\n"
     ]
    }
   ],
   "source": [
    "student['name'] = \"Devdas\"\n",
    "print(student)\n",
    "print(student_copy1) # This is not changed, this is how shallow copy works"
   ]
  },
  {
   "cell_type": "code",
   "execution_count": 38,
   "id": "5581fec6",
   "metadata": {},
   "outputs": [
    {
     "name": "stdout",
     "output_type": "stream",
     "text": [
      "Key: name\n",
      "Key: age\n",
      "Key: address\n"
     ]
    }
   ],
   "source": [
    "### Iterating through a dictionary\n",
    "# We can use loops to iterate through the keys, values, or key-value pairs in a dictionary.\n",
    "\n",
    "# Iterating through keys\n",
    "for key in student.keys():\n",
    "    print(f\"Key: {key}\")\n"
   ]
  },
  {
   "cell_type": "code",
   "execution_count": 39,
   "id": "a777f91d",
   "metadata": {},
   "outputs": [
    {
     "name": "stdout",
     "output_type": "stream",
     "text": [
      "Value: Devdas\n",
      "Value: 32\n",
      "Value: India\n"
     ]
    }
   ],
   "source": [
    "# Iterating through values\n",
    "for value in student.values():\n",
    "    print(f\"Value: {value}\")"
   ]
  },
  {
   "cell_type": "code",
   "execution_count": 40,
   "id": "958d0cfc",
   "metadata": {},
   "outputs": [
    {
     "name": "stdout",
     "output_type": "stream",
     "text": [
      "Key: name, Value: Devdas\n",
      "Key: age, Value: 32\n",
      "Key: address, Value: India\n"
     ]
    }
   ],
   "source": [
    "# Iterating through key-value pairs\n",
    "for key, value in student.items():\n",
    "    print(f\"Key: {key}, Value: {value}\")"
   ]
  },
  {
   "cell_type": "code",
   "execution_count": 41,
   "id": "ff92e06d",
   "metadata": {},
   "outputs": [
    {
     "name": "stdout",
     "output_type": "stream",
     "text": [
      "{'student1': {'name': 'Niro', 'age': 21}, 'student2': {'name': 'Pacino', 'age': 22}, 'student3': {'name': 'Nicholson', 'age': 20}}\n"
     ]
    }
   ],
   "source": [
    "## Nested Dictionaries\n",
    "\n",
    "students ={\n",
    "    'student1': {'name': 'Niro', 'age': 21},\n",
    "    'student2': {'name': 'Pacino', 'age': 22},\n",
    "    'student3': {'name': 'Nicholson', 'age': 20}\n",
    "}\n",
    "print(students)"
   ]
  },
  {
   "cell_type": "code",
   "execution_count": 42,
   "id": "36cd87bb",
   "metadata": {},
   "outputs": [
    {
     "name": "stdout",
     "output_type": "stream",
     "text": [
      "Niro\n",
      "22\n"
     ]
    }
   ],
   "source": [
    "# Accessing nested dictionary elements\n",
    "\n",
    "print(students['student1']['name'])  # Output: Niro\n",
    "print(students['student2']['age'])   # Output: 22   \n"
   ]
  },
  {
   "cell_type": "code",
   "execution_count": 43,
   "id": "a6fc7dc5",
   "metadata": {},
   "outputs": [
    {
     "data": {
      "text/plain": [
       "dict_items([('student1', {'name': 'Niro', 'age': 21}), ('student2', {'name': 'Pacino', 'age': 22}), ('student3', {'name': 'Nicholson', 'age': 20})])"
      ]
     },
     "execution_count": 43,
     "metadata": {},
     "output_type": "execute_result"
    }
   ],
   "source": [
    "students.items()"
   ]
  },
  {
   "cell_type": "code",
   "execution_count": 45,
   "id": "8f0a61e2",
   "metadata": {},
   "outputs": [
    {
     "name": "stdout",
     "output_type": "stream",
     "text": [
      "student1:{'name': 'Niro', 'age': 21}\n",
      "  name: Niro\n",
      "  age: 21\n",
      "student2:{'name': 'Pacino', 'age': 22}\n",
      "  name: Pacino\n",
      "  age: 22\n",
      "student3:{'name': 'Nicholson', 'age': 20}\n",
      "  name: Nicholson\n",
      "  age: 20\n"
     ]
    }
   ],
   "source": [
    "## Iterating through nested dictionaries\n",
    "\n",
    "for student_id, info in students.items():\n",
    "    print(f\"{student_id}:{info}\")\n",
    "    for key, value in info.items():\n",
    "        print(f\"  {key}: {value}\")"
   ]
  },
  {
   "cell_type": "code",
   "execution_count": 47,
   "id": "bce888fc",
   "metadata": {},
   "outputs": [
    {
     "name": "stdout",
     "output_type": "stream",
     "text": [
      "{0: 0, 1: 1, 2: 4, 3: 9, 4: 16, 5: 25, 6: 36, 7: 49, 8: 64, 9: 81}\n"
     ]
    }
   ],
   "source": [
    "## Dictionary Comprehension\n",
    "\n",
    "squares = {x: x*x for x in range(10)}\n",
    "print(squares)"
   ]
  },
  {
   "cell_type": "code",
   "execution_count": 48,
   "id": "1d52dec0",
   "metadata": {},
   "outputs": [
    {
     "name": "stdout",
     "output_type": "stream",
     "text": [
      "{0: 0, 2: 4, 4: 16, 6: 36, 8: 64}\n"
     ]
    }
   ],
   "source": [
    "### Conditional Dictionary Comprehension\n",
    "\n",
    "even_squares = {x: x*x for x in range(10) if x % 2 == 0}\n",
    "print(even_squares)"
   ]
  },
  {
   "cell_type": "code",
   "execution_count": 49,
   "id": "32420895",
   "metadata": {},
   "outputs": [
    {
     "name": "stdout",
     "output_type": "stream",
     "text": [
      "{1: 1, 2: 2, 3: 1, 4: 3, 5: 1}\n"
     ]
    }
   ],
   "source": [
    "### Practical example \n",
    "\n",
    "# Use a dictionary to count the frequency of elements in a list\n",
    "\n",
    "numbers = [1, 2, 2, 3, 4, 4, 4, 5]\n",
    "frequency = {}\n",
    "for number in numbers:\n",
    "    if number in frequency:\n",
    "        frequency[number] += 1\n",
    "    else:\n",
    "        frequency[number] = 1  \n",
    "print(frequency)  # Output: {1: 1, 2: 2, 3: 1, 4: 3, 5: 1}"
   ]
  },
  {
   "cell_type": "code",
   "execution_count": 50,
   "id": "c960003b",
   "metadata": {},
   "outputs": [
    {
     "name": "stdout",
     "output_type": "stream",
     "text": [
      "{'a': 1, 'b': 3, 'c': 4}\n"
     ]
    }
   ],
   "source": [
    "# Merge two dictionaries\n",
    "dict1 = {'a': 1, 'b': 2}\n",
    "dict2 = {'b': 3, 'c': 4}\n",
    "merged_dict = {**dict1, **dict2}  # dict2 values will overwrite dict1 values for duplicate keys\n",
    "print(merged_dict)  # Output: {'a': 1, 'b': 3, 'c': 4}"
   ]
  }
 ],
 "metadata": {
  "kernelspec": {
   "display_name": "open3d_env",
   "language": "python",
   "name": "python3"
  },
  "language_info": {
   "codemirror_mode": {
    "name": "ipython",
    "version": 3
   },
   "file_extension": ".py",
   "mimetype": "text/x-python",
   "name": "python",
   "nbconvert_exporter": "python",
   "pygments_lexer": "ipython3",
   "version": "3.10.16"
  }
 },
 "nbformat": 4,
 "nbformat_minor": 5
}
