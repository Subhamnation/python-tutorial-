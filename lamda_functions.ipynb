{
 "cells": [
  {
   "cell_type": "markdown",
   "id": "432200e4",
   "metadata": {},
   "source": [
    "#### Lamda Functions"
   ]
  },
  {
   "cell_type": "code",
   "execution_count": 1,
   "id": "8e6b86ee",
   "metadata": {},
   "outputs": [],
   "source": [
    "###  Lambda Functions ###\n",
    "\n",
    "# A lambda function is a small anonymous function defined with the lambda keyword.\n",
    "# It can take any number of arguments but can only have one expression.\n",
    "# The expression is evaluated and returned when the function is called.\n"
   ]
  },
  {
   "cell_type": "code",
   "execution_count": 2,
   "id": "107cde44",
   "metadata": {},
   "outputs": [],
   "source": [
    "# Lambda functions are often used for short, throwaway functions that are not reused elsewhere in the code.\n",
    "# Syntax:\n",
    "# lambda arguments: expression\n"
   ]
  },
  {
   "cell_type": "code",
   "execution_count": 6,
   "id": "0255f1a2",
   "metadata": {},
   "outputs": [
    {
     "name": "stdout",
     "output_type": "stream",
     "text": [
      "15\n"
     ]
    }
   ],
   "source": [
    "# Using basic functions\n",
    "def addition(a,b):\n",
    "    return a + b\n",
    "print(addition(5,10))  # Output: 15\n",
    "\n",
    "# What are the disadvantages of using normal functions?\n",
    "# 1. More lines of code.\n",
    "# 2. Less readable for small functions.\n",
    "# 3. Cannot be used in places where a function is required as an argument (like in map, filter, etc.)   \n",
    "\n"
   ]
  },
  {
   "cell_type": "code",
   "execution_count": 5,
   "id": "35283896",
   "metadata": {},
   "outputs": [
    {
     "name": "stdout",
     "output_type": "stream",
     "text": [
      "15\n"
     ]
    }
   ],
   "source": [
    "# Using lambda functions\n",
    "addition_lambda = lambda a, b: a + b\n",
    "print(addition_lambda(5, 10))  # Output: 15"
   ]
  },
  {
   "cell_type": "code",
   "execution_count": 7,
   "id": "4affbf21",
   "metadata": {},
   "outputs": [
    {
     "data": {
      "text/plain": [
       "True"
      ]
     },
     "execution_count": 7,
     "metadata": {},
     "output_type": "execute_result"
    }
   ],
   "source": [
    "def even(num):\n",
    "    if num%2==0:\n",
    "        return True\n",
    "even(24)"
   ]
  },
  {
   "cell_type": "code",
   "execution_count": 9,
   "id": "1af47f86",
   "metadata": {},
   "outputs": [
    {
     "name": "stdout",
     "output_type": "stream",
     "text": [
      "True\n"
     ]
    }
   ],
   "source": [
    "even1 = lambda num: num%2==0\n",
    "print(even1(24))"
   ]
  },
  {
   "cell_type": "code",
   "execution_count": 10,
   "id": "2b2584e9",
   "metadata": {},
   "outputs": [
    {
     "data": {
      "text/plain": [
       "39"
      ]
     },
     "execution_count": 10,
     "metadata": {},
     "output_type": "execute_result"
    }
   ],
   "source": [
    "def addition(x,y,z):\n",
    "    return x + y + z\n",
    "addition(12,13,14)"
   ]
  },
  {
   "cell_type": "code",
   "execution_count": 11,
   "id": "8d1f06cb",
   "metadata": {},
   "outputs": [
    {
     "name": "stdout",
     "output_type": "stream",
     "text": [
      "39\n"
     ]
    }
   ],
   "source": [
    "addition1 = lambda x,y,z: x + y + z\n",
    "print(addition1(12,13,14))\n",
    "\n"
   ]
  },
  {
   "cell_type": "code",
   "execution_count": 12,
   "id": "6f0439e4",
   "metadata": {},
   "outputs": [
    {
     "data": {
      "text/plain": [
       "4"
      ]
     },
     "execution_count": 12,
     "metadata": {},
     "output_type": "execute_result"
    }
   ],
   "source": [
    "## MAP() FUNCTION \n",
    "# It applies a given function to all items in an iterable (like a list) and returns a map object (which is an iterator).\n",
    "\n",
    "numbers = [1, 2, 3, 4, 5]\n",
    "def square(num):\n",
    "    return num ** 2\n",
    "square(2)"
   ]
  },
  {
   "cell_type": "code",
   "execution_count": 14,
   "id": "306978a4",
   "metadata": {},
   "outputs": [
    {
     "data": {
      "text/plain": [
       "[1, 4, 9, 16, 25]"
      ]
     },
     "execution_count": 14,
     "metadata": {},
     "output_type": "execute_result"
    }
   ],
   "source": [
    "list(map(lambda num: num ** 2, numbers))"
   ]
  }
 ],
 "metadata": {
  "kernelspec": {
   "display_name": "open3d_env",
   "language": "python",
   "name": "python3"
  },
  "language_info": {
   "codemirror_mode": {
    "name": "ipython",
    "version": 3
   },
   "file_extension": ".py",
   "mimetype": "text/x-python",
   "name": "python",
   "nbconvert_exporter": "python",
   "pygments_lexer": "ipython3",
   "version": "3.10.16"
  }
 },
 "nbformat": 4,
 "nbformat_minor": 5
}
