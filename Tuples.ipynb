{
 "cells": [
  {
   "cell_type": "code",
   "execution_count": 1,
   "id": "214c7781",
   "metadata": {},
   "outputs": [],
   "source": [
    "## What is tuple?\n",
    "\n",
    "# A tuple is a collection which is ordered and unchangeable. In Python tuples are written with round brackets."
   ]
  },
  {
   "cell_type": "code",
   "execution_count": 1,
   "id": "cd707fa7",
   "metadata": {},
   "outputs": [
    {
     "name": "stdout",
     "output_type": "stream",
     "text": [
      "()\n",
      "<class 'tuple'>\n"
     ]
    }
   ],
   "source": [
    "# creating a tuplea tuple \n",
    "\n",
    "empty_tuple = ()\n",
    "print(empty_tuple)\n",
    "print(type(empty_tuple))"
   ]
  },
  {
   "cell_type": "code",
   "execution_count": 2,
   "id": "96086bcb",
   "metadata": {},
   "outputs": [
    {
     "name": "stdout",
     "output_type": "stream",
     "text": [
      "[]\n",
      "<class 'list'>\n",
      "()\n",
      "<class 'tuple'>\n"
     ]
    }
   ],
   "source": [
    "lst = list()\n",
    "print(lst)\n",
    "print(type(lst))\n",
    "\n",
    "tpl = tuple()\n",
    "print(tpl)\n",
    "print(type(tpl))    "
   ]
  },
  {
   "cell_type": "code",
   "execution_count": 3,
   "id": "161635fd",
   "metadata": {},
   "outputs": [
    {
     "name": "stdout",
     "output_type": "stream",
     "text": [
      "(1, 2, 3, 4, 5)\n"
     ]
    }
   ],
   "source": [
    "numbers = tuple((1, 2, 3, 4, 5))\n",
    "print(numbers)"
   ]
  },
  {
   "cell_type": "code",
   "execution_count": 4,
   "id": "bf861bdd",
   "metadata": {},
   "outputs": [
    {
     "data": {
      "text/plain": [
       "[1, 2, 3, 4, 5]"
      ]
     },
     "execution_count": 4,
     "metadata": {},
     "output_type": "execute_result"
    }
   ],
   "source": [
    "list ((1, 2, 3, 4, 5))"
   ]
  },
  {
   "cell_type": "code",
   "execution_count": 5,
   "id": "85da6387",
   "metadata": {},
   "outputs": [
    {
     "name": "stdout",
     "output_type": "stream",
     "text": [
      "(1, 'Hello', 3.4, True)\n",
      "<class 'tuple'>\n"
     ]
    }
   ],
   "source": [
    "mixed_tuple = (1, \"Hello\", 3.4, True)\n",
    "print(mixed_tuple)\n",
    "print(type(mixed_tuple))"
   ]
  },
  {
   "cell_type": "code",
   "execution_count": 6,
   "id": "9a2bdc14",
   "metadata": {},
   "outputs": [
    {
     "data": {
      "text/plain": [
       "(1, 2, 3, 4, 5)"
      ]
     },
     "execution_count": 6,
     "metadata": {},
     "output_type": "execute_result"
    }
   ],
   "source": [
    "## Accessing tuple items\n",
    "\n",
    "numbers\n"
   ]
  },
  {
   "cell_type": "code",
   "execution_count": 7,
   "id": "270ac80d",
   "metadata": {},
   "outputs": [
    {
     "data": {
      "text/plain": [
       "3"
      ]
     },
     "execution_count": 7,
     "metadata": {},
     "output_type": "execute_result"
    }
   ],
   "source": [
    "numbers[2]"
   ]
  },
  {
   "cell_type": "code",
   "execution_count": 9,
   "id": "4f49a3d0",
   "metadata": {},
   "outputs": [
    {
     "data": {
      "text/plain": [
       "5"
      ]
     },
     "execution_count": 9,
     "metadata": {},
     "output_type": "execute_result"
    }
   ],
   "source": [
    "numbers[-1]"
   ]
  },
  {
   "cell_type": "code",
   "execution_count": 10,
   "id": "def4fa35",
   "metadata": {},
   "outputs": [
    {
     "data": {
      "text/plain": [
       "(1, 2, 3, 4)"
      ]
     },
     "execution_count": 10,
     "metadata": {},
     "output_type": "execute_result"
    }
   ],
   "source": [
    "numbers[0:4]"
   ]
  },
  {
   "cell_type": "code",
   "execution_count": 11,
   "id": "0b412b59",
   "metadata": {},
   "outputs": [
    {
     "data": {
      "text/plain": [
       "(5, 4, 3, 2, 1)"
      ]
     },
     "execution_count": 11,
     "metadata": {},
     "output_type": "execute_result"
    }
   ],
   "source": [
    "numbers[::-1]\n"
   ]
  },
  {
   "cell_type": "code",
   "execution_count": 14,
   "id": "73af16b7",
   "metadata": {},
   "outputs": [
    {
     "name": "stdout",
     "output_type": "stream",
     "text": [
      "(1, 2, 3, 4, 5)\n",
      "(1, 'Hello', 3.4, True)\n"
     ]
    }
   ],
   "source": [
    "print(numbers)\n",
    "print(mixed_tuple)"
   ]
  },
  {
   "cell_type": "code",
   "execution_count": 15,
   "id": "49f2e677",
   "metadata": {},
   "outputs": [
    {
     "name": "stdout",
     "output_type": "stream",
     "text": [
      "(1, 2, 3, 4, 5, 1, 'Hello', 3.4, True)\n"
     ]
    }
   ],
   "source": [
    "## Tuple operations\n",
    "\n",
    "concatenated = numbers + mixed_tuple\n",
    "print(concatenated)\n"
   ]
  },
  {
   "cell_type": "code",
   "execution_count": 16,
   "id": "422189c0",
   "metadata": {},
   "outputs": [
    {
     "data": {
      "text/plain": [
       "(1, 'Hello', 3.4, True, 1, 'Hello', 3.4, True, 1, 'Hello', 3.4, True)"
      ]
     },
     "execution_count": 16,
     "metadata": {},
     "output_type": "execute_result"
    }
   ],
   "source": [
    "mixed_tuple * 3\n"
   ]
  },
  {
   "cell_type": "code",
   "execution_count": 17,
   "id": "e85536a3",
   "metadata": {},
   "outputs": [
    {
     "data": {
      "text/plain": [
       "(1, 2, 3, 4, 5, 1, 2, 3, 4, 5, 1, 2, 3, 4, 5)"
      ]
     },
     "execution_count": 17,
     "metadata": {},
     "output_type": "execute_result"
    }
   ],
   "source": [
    "numbers * 3\n"
   ]
  },
  {
   "cell_type": "code",
   "execution_count": 19,
   "id": "6725ef7c",
   "metadata": {},
   "outputs": [
    {
     "name": "stdout",
     "output_type": "stream",
     "text": [
      "(1, 2, [3, 4], 5)\n",
      "(1, 2, [30, 4], 5)\n"
     ]
    },
    {
     "ename": "TypeError",
     "evalue": "'tuple' object does not support item assignment",
     "output_type": "error",
     "traceback": [
      "\u001b[0;31m---------------------------------------------------------------------------\u001b[0m",
      "\u001b[0;31mTypeError\u001b[0m                                 Traceback (most recent call last)",
      "Cell \u001b[0;32mIn[19], line 12\u001b[0m\n\u001b[1;32m     10\u001b[0m mutable_tuple[\u001b[38;5;241m2\u001b[39m][\u001b[38;5;241m0\u001b[39m] \u001b[38;5;241m=\u001b[39m \u001b[38;5;241m30\u001b[39m\n\u001b[1;32m     11\u001b[0m \u001b[38;5;28mprint\u001b[39m(mutable_tuple)    \n\u001b[0;32m---> 12\u001b[0m \u001b[43mmutable_tuple\u001b[49m\u001b[43m[\u001b[49m\u001b[38;5;241;43m2\u001b[39;49m\u001b[43m]\u001b[49m \u001b[38;5;241m=\u001b[39m [\u001b[38;5;241m30\u001b[39m, \u001b[38;5;241m40\u001b[39m]  \u001b[38;5;66;03m# This will raise a TypeError\u001b[39;00m\n",
      "\u001b[0;31mTypeError\u001b[0m: 'tuple' object does not support item assignment"
     ]
    }
   ],
   "source": [
    "## Immutability of tuples\n",
    "\n",
    "# Tuples are immutable, meaning that you cannot change, add, or remove items after the tuple has been created.\n",
    "# However, if the tuple contains mutable items, such as lists, those items can be modified.\n",
    "# numbers[0] = 10  # This will raise a TypeError    \n",
    "\n",
    "# give example of mutable item in tuple\n",
    "mutable_tuple = (1, 2, [3, 4], 5)\n",
    "print(mutable_tuple)\n",
    "mutable_tuple[2][0] = 30\n",
    "print(mutable_tuple)    \n",
    "mutable_tuple[2] = [30, 40]  # This will raise a TypeError\n",
    "\n",
    "\n"
   ]
  },
  {
   "cell_type": "code",
   "execution_count": 20,
   "id": "00ef2e3e",
   "metadata": {},
   "outputs": [
    {
     "name": "stdout",
     "output_type": "stream",
     "text": [
      "1\n",
      "1\n"
     ]
    }
   ],
   "source": [
    "#Tuple methods\n",
    "\n",
    "print(numbers.count(1))\n",
    "print(numbers.index(2))"
   ]
  },
  {
   "cell_type": "code",
   "execution_count": 21,
   "id": "0e0bb69d",
   "metadata": {},
   "outputs": [
    {
     "name": "stdout",
     "output_type": "stream",
     "text": [
      "(1, 2, 'Hello', 3.4, True)\n",
      "<class 'tuple'>\n"
     ]
    }
   ],
   "source": [
    "## Packing and Unpacking of tuples\n",
    "\n",
    "# Packing\n",
    "packed_tuple = 1, 2, \"Hello\", 3.4, True\n",
    "print(packed_tuple)\n",
    "print(type(packed_tuple))"
   ]
  },
  {
   "cell_type": "code",
   "execution_count": 22,
   "id": "21d525e0",
   "metadata": {},
   "outputs": [
    {
     "name": "stdout",
     "output_type": "stream",
     "text": [
      "1\n",
      "2\n",
      "Hello\n",
      "3.4\n"
     ]
    }
   ],
   "source": [
    "# Unpacking\n",
    "\n",
    "a, b, c, d, e = packed_tuple\n",
    "print(a)\n",
    "print(b)\n",
    "print(c)\n",
    "print(d)"
   ]
  },
  {
   "cell_type": "code",
   "execution_count": 23,
   "id": "991b4b80",
   "metadata": {},
   "outputs": [
    {
     "name": "stdout",
     "output_type": "stream",
     "text": [
      "1\n",
      "[2, 3, 4, 5, 6, 7, 8]\n",
      "9\n"
     ]
    }
   ],
   "source": [
    "# Unpacking with *\n",
    "\n",
    "numbers = (1, 2, 3, 4, 5, 6, 7, 8, 9)\n",
    "\n",
    "first, *middle, last = numbers\n",
    "print(first)\n",
    "print(middle)\n",
    "print(last)"
   ]
  },
  {
   "cell_type": "code",
   "execution_count": 24,
   "id": "0bd47550",
   "metadata": {},
   "outputs": [
    {
     "data": {
      "text/plain": [
       "[1, 2, 3]"
      ]
     },
     "execution_count": 24,
     "metadata": {},
     "output_type": "execute_result"
    }
   ],
   "source": [
    "# Nested tuples\n",
    "\n",
    "lst =[[1, 2, 3], [4, 5, 6], [7, 8, 9], [1, 'Hello', 3.14, \"c\"]]\n",
    "lst[0]"
   ]
  },
  {
   "cell_type": "code",
   "execution_count": 25,
   "id": "90514b3f",
   "metadata": {},
   "outputs": [
    {
     "data": {
      "text/plain": [
       "3"
      ]
     },
     "execution_count": 25,
     "metadata": {},
     "output_type": "execute_result"
    }
   ],
   "source": [
    "lst[0][2]"
   ]
  },
  {
   "cell_type": "code",
   "execution_count": 30,
   "id": "d91a56b8",
   "metadata": {},
   "outputs": [
    {
     "data": {
      "text/plain": [
       "[1, 'Hello', 3.14]"
      ]
     },
     "execution_count": 30,
     "metadata": {},
     "output_type": "execute_result"
    }
   ],
   "source": [
    "lst[3][0:3]"
   ]
  },
  {
   "cell_type": "code",
   "execution_count": 33,
   "id": "a431485a",
   "metadata": {},
   "outputs": [
    {
     "data": {
      "text/plain": [
       "3"
      ]
     },
     "execution_count": 33,
     "metadata": {},
     "output_type": "execute_result"
    }
   ],
   "source": [
    "nested_tuple = (1, 2, (3, 4),(\"a\", \"b\"))\n",
    "nested_tuple[2][0]"
   ]
  },
  {
   "cell_type": "code",
   "execution_count": 34,
   "id": "44ce2317",
   "metadata": {},
   "outputs": [
    {
     "name": "stdout",
     "output_type": "stream",
     "text": [
      "1\n",
      "2\n",
      "3\n",
      "4\n",
      "a\n",
      "b\n"
     ]
    }
   ],
   "source": [
    "# Iterating through a nested tuple\n",
    "for item in nested_tuple:\n",
    "    if isinstance(item, tuple):\n",
    "        for sub_item in item:\n",
    "            print(sub_item)\n",
    "    else:\n",
    "        print(item)"
   ]
  },
  {
   "cell_type": "code",
   "execution_count": 35,
   "id": "f263f46b",
   "metadata": {},
   "outputs": [],
   "source": [
    "# conclusion\n",
    "# Tuples are a fundamental data structure in Python that offer several advantages, including immutability, which can lead to safer and more predictable code. They are useful for grouping related data and can be used as keys in dictionaries due to their hashable nature. Understanding tuples and their operations is essential for effective Python programming.\n",
    "\n"
   ]
  },
  {
   "cell_type": "code",
   "execution_count": null,
   "id": "d09f0d6f",
   "metadata": {},
   "outputs": [],
   "source": []
  }
 ],
 "metadata": {
  "kernelspec": {
   "display_name": "open3d_env",
   "language": "python",
   "name": "python3"
  },
  "language_info": {
   "codemirror_mode": {
    "name": "ipython",
    "version": 3
   },
   "file_extension": ".py",
   "mimetype": "text/x-python",
   "name": "python",
   "nbconvert_exporter": "python",
   "pygments_lexer": "ipython3",
   "version": "3.10.16"
  }
 },
 "nbformat": 4,
 "nbformat_minor": 5
}
