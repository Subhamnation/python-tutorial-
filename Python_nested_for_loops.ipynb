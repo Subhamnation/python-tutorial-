{
  "nbformat": 4,
  "nbformat_minor": 0,
  "metadata": {
    "colab": {
      "provenance": []
    },
    "kernelspec": {
      "name": "python3",
      "display_name": "Python 3"
    },
    "language_info": {
      "name": "python"
    }
  },
  "cells": [
    {
      "cell_type": "markdown",
      "source": [
        "## **Nested For Loops**"
      ],
      "metadata": {
        "id": "Eys82jCvRZSW"
      }
    },
    {
      "cell_type": "code",
      "execution_count": 2,
      "metadata": {
        "colab": {
          "base_uri": "https://localhost:8080/"
        },
        "id": "-F5OnPzjRT5n",
        "outputId": "b43aa821-0d69-440d-f6e3-4e214696671a"
      },
      "outputs": [
        {
          "output_type": "stream",
          "name": "stdout",
          "text": [
            "1\n",
            "a\n",
            "b\n",
            "c\n",
            "2\n",
            "a\n",
            "b\n",
            "c\n",
            "3\n",
            "a\n",
            "b\n",
            "c\n"
          ]
        }
      ],
      "source": [
        "num_list = [1, 2, 3]\n",
        "alpha_list = ['a', 'b', 'c']\n",
        "\n",
        "for num in num_list: # outer for loop\n",
        "    print(num)\n",
        "    for letter in alpha_list: # inner for loop\n",
        "        print(letter)"
      ]
    },
    {
      "cell_type": "markdown",
      "source": [
        "## **Generating Matrix with nested for loop**"
      ],
      "metadata": {
        "id": "eCKB3JzsTMQT"
      }
    },
    {
      "cell_type": "code",
      "source": [
        "import numpy as np\n",
        "x = np.zeros((3,6))\n",
        "for i in range(0,3):\n",
        "  for j in range(0,6):\n",
        "    x[i][j] = 8\n",
        "print(x)"
      ],
      "metadata": {
        "colab": {
          "base_uri": "https://localhost:8080/"
        },
        "id": "6yhg1OEOR4JZ",
        "outputId": "a94fc876-9c57-4ad3-8495-c9fac0b09cd4"
      },
      "execution_count": 6,
      "outputs": [
        {
          "output_type": "stream",
          "name": "stdout",
          "text": [
            "[[8. 8. 8. 8. 8. 8.]\n",
            " [8. 8. 8. 8. 8. 8.]\n",
            " [8. 8. 8. 8. 8. 8.]]\n"
          ]
        }
      ]
    },
    {
      "cell_type": "code",
      "source": [
        "k = np.ones((3,6))\n",
        "k = k*8\n",
        "print(k)"
      ],
      "metadata": {
        "colab": {
          "base_uri": "https://localhost:8080/"
        },
        "id": "v1QMqiH2S8Dp",
        "outputId": "7be8f642-d37d-4390-df38-0d6ebfa29f37"
      },
      "execution_count": 12,
      "outputs": [
        {
          "output_type": "stream",
          "name": "stdout",
          "text": [
            "[[8. 8. 8. 8. 8. 8.]\n",
            " [8. 8. 8. 8. 8. 8.]\n",
            " [8. 8. 8. 8. 8. 8.]]\n"
          ]
        }
      ]
    },
    {
      "cell_type": "markdown",
      "source": [
        "## **Generate the following matrix with nested for loop and conditional statement**\n",
        "\n",
        "### [[0,0,0], [0, 1, 2], [0, 1, 4]]"
      ],
      "metadata": {
        "id": "dsIDloUKTyLi"
      }
    },
    {
      "cell_type": "code",
      "source": [
        "x = np.zeros((3,3))\n",
        "for i in range(0,3):\n",
        "  for j in range(0,3):\n",
        "    if i == 0:\n",
        "      x[i][j] = 0\n",
        "    elif i == 1:\n",
        "      x[i][j] = j\n",
        "    else:\n",
        "      x[i][j] = j**2\n",
        "print(x)"
      ],
      "metadata": {
        "colab": {
          "base_uri": "https://localhost:8080/"
        },
        "id": "7fX5IuwATa_u",
        "outputId": "17905b8b-5116-41bc-a9bb-c94c935dbc68"
      },
      "execution_count": 14,
      "outputs": [
        {
          "output_type": "stream",
          "name": "stdout",
          "text": [
            "[[0. 0. 0.]\n",
            " [0. 1. 2.]\n",
            " [0. 1. 4.]]\n"
          ]
        }
      ]
    },
    {
      "cell_type": "markdown",
      "source": [
        "## **Print the checkerboard using nested for loop**\n",
        "\n",
        "### Use the following equation for printing the board\n",
        "### (-1)**(x+y-1)"
      ],
      "metadata": {
        "id": "7cAz49yfU6IX"
      }
    },
    {
      "cell_type": "code",
      "source": [
        "import matplotlib.pyplot as plt\n",
        "\n",
        "x = np.zeros((8,8))\n",
        "for i in range(0,8):\n",
        "  for j in range(0,8):\n",
        "    x[i][j] = (-1)**(i+j+1)\n",
        "plt.imshow(x)\n",
        "plt.show()"
      ],
      "metadata": {
        "colab": {
          "base_uri": "https://localhost:8080/",
          "height": 430
        },
        "id": "fDnNyJJtUmME",
        "outputId": "e4665b68-b3e3-40dd-e1d7-31541f007661"
      },
      "execution_count": 15,
      "outputs": [
        {
          "output_type": "display_data",
          "data": {
            "text/plain": [
              "<Figure size 640x480 with 1 Axes>"
            ],
            "image/png": "[encoded data removed]"
          },
          "metadata": {}
        }
      ]
    },
    {
      "cell_type": "code",
      "source": [],
      "metadata": {
        "id": "C_EvuKk2V23B"
      },
      "execution_count": null,
      "outputs": []
    }
  ]
}