{
  "nbformat": 4,
  "nbformat_minor": 0,
  "metadata": {
    "colab": {
      "provenance": []
    },
    "kernelspec": {
      "name": "python3",
      "display_name": "Python 3"
    },
    "language_info": {
      "name": "python"
    }
  },
  "cells": [
    {
      "cell_type": "code",
      "execution_count": 1,
      "metadata": {
        "colab": {
          "base_uri": "https://localhost:8080/"
        },
        "id": "NgHchQFYEGMu",
        "outputId": "03d6f339-cd94-453a-8d09-fc377e275be8"
      },
      "outputs": [
        {
          "output_type": "stream",
          "name": "stdout",
          "text": [
            "Enter your name: subham\n",
            "Good Afternoon subham\n"
          ]
        }
      ],
      "source": [
        "a = str(input('Enter your name: '))\n",
        "print('Good Afternoon',a)"
      ]
    },
    {
      "cell_type": "code",
      "source": [
        "## Alternate Solution:\n",
        "name = input(\"Enter your name: \")\n",
        "\n",
        "print(f\"Good Afternoon, {name} \")"
      ],
      "metadata": {
        "colab": {
          "base_uri": "https://localhost:8080/"
        },
        "id": "n0San6K-KPiy",
        "outputId": "a51cb836-ced4-448e-ae99-d9c812077072"
      },
      "execution_count": 18,
      "outputs": [
        {
          "output_type": "stream",
          "name": "stdout",
          "text": [
            "Enter your name: Subham\n",
            "Good Afternoon, Subham \n"
          ]
        }
      ]
    },
    {
      "cell_type": "code",
      "source": [
        "letter = \"\"\"Dear {name},\n",
        "             You are selected,\n",
        "            {date}\"\"\"\n",
        "print(letter.format(name = 'Subham', date = '23 July 2024' ))"
      ],
      "metadata": {
        "colab": {
          "base_uri": "https://localhost:8080/"
        },
        "id": "UTAjSnw6EZzx",
        "outputId": "8cba21a6-f111-4afe-df97-7ebba80d4125"
      },
      "execution_count": 5,
      "outputs": [
        {
          "output_type": "stream",
          "name": "stdout",
          "text": [
            "Dear Subham,\n",
            "             You are selected, \n",
            "            23 July 2024\n"
          ]
        }
      ]
    },
    {
      "cell_type": "code",
      "source": [
        "#Alter:\n",
        "letter = '''Dear <|Name|>,\n",
        "You are selected!\n",
        "<|Date|> '''\n",
        "\n",
        "print(letter.replace(\"<|Name|>\", \"Harry\").replace(\"<|Date|\", \"24 September 2050\"))"
      ],
      "metadata": {
        "colab": {
          "base_uri": "https://localhost:8080/"
        },
        "id": "LHxP7NUCKgyL",
        "outputId": "60fa527e-d192-4109-d166-f1686962792e"
      },
      "execution_count": 19,
      "outputs": [
        {
          "output_type": "stream",
          "name": "stdout",
          "text": [
            "Dear Harry, \n",
            "You are selected! \n",
            "24 September 2050> \n"
          ]
        }
      ]
    },
    {
      "cell_type": "code",
      "source": [
        "import re\n",
        "test_str = \"S U BHAM\"\n",
        "print (\"The oiginal string is\", test_str)\n",
        "# Check for spaces\n",
        "spaces = bool(re.search(r\"\\s\", test_str))\n",
        "print(\"Does string contain spaces ? \", str(spaces))"
      ],
      "metadata": {
        "colab": {
          "base_uri": "https://localhost:8080/"
        },
        "id": "4rYjHVA8IEyc",
        "outputId": "6035247d-928d-44db-9f1f-53688b87418d"
      },
      "execution_count": 11,
      "outputs": [
        {
          "output_type": "stream",
          "name": "stdout",
          "text": [
            "The oiginal string is S U BHAM\n",
            "Does string contain spaces ?  True\n"
          ]
        }
      ]
    },
    {
      "cell_type": "code",
      "source": [
        "# Check the double spaces\n",
        "name = \"Harry is a good  boy and  \"\n",
        "\n",
        "print(name.find(\"  \"))"
      ],
      "metadata": {
        "colab": {
          "base_uri": "https://localhost:8080/"
        },
        "id": "NRYt-aH1Kx6S",
        "outputId": "513ead7c-cff3-454d-a788-034b58caf359"
      },
      "execution_count": 20,
      "outputs": [
        {
          "output_type": "stream",
          "name": "stdout",
          "text": [
            "15\n"
          ]
        }
      ]
    },
    {
      "cell_type": "code",
      "source": [
        "name = \"Harry is a good  boy and  \"\n",
        "\n",
        "print(\"Before removal:\",name) # Strings are immutable which means that you cannot change them by running functions on them\n",
        "print(\"After removal :\",name.replace(\"  \", \" \"))\n"
      ],
      "metadata": {
        "colab": {
          "base_uri": "https://localhost:8080/"
        },
        "id": "gyS7GGBxK_hm",
        "outputId": "a989b497-4128-46ba-b26b-b725ae33fcc2"
      },
      "execution_count": 25,
      "outputs": [
        {
          "output_type": "stream",
          "name": "stdout",
          "text": [
            "Before removal: Harry is a good  boy and  \n",
            "After removal : Harry is a good boy and \n"
          ]
        }
      ]
    },
    {
      "cell_type": "code",
      "source": [
        "def remove(test_str):\n",
        "    return test_str.replace(\" \", \"\")\n",
        "print (\"The oiginal string is:\", test_str)\n",
        "print(\"After removal of spaces:\",remove(test_str))"
      ],
      "metadata": {
        "colab": {
          "base_uri": "https://localhost:8080/"
        },
        "id": "O0-85WmyIHVO",
        "outputId": "e554bcb8-ee13-4853-fb07-9ced07f46c00"
      },
      "execution_count": 17,
      "outputs": [
        {
          "output_type": "stream",
          "name": "stdout",
          "text": [
            "The oiginal string is: S U BHAM\n",
            "After removal of spaces: SUBHAM\n"
          ]
        }
      ]
    },
    {
      "cell_type": "code",
      "source": [
        "#Application of escape sequences\n",
        "\n",
        "letter = \"Dear Harry,\\n\\tThis python course is nice.\\nThanks!\"\n",
        "\n",
        "print(letter)"
      ],
      "metadata": {
        "colab": {
          "base_uri": "https://localhost:8080/"
        },
        "id": "z-TkgY-rJubR",
        "outputId": "38949111-e7c9-4c64-d1be-e8fd1ee84b18"
      },
      "execution_count": 27,
      "outputs": [
        {
          "output_type": "stream",
          "name": "stdout",
          "text": [
            "Dear Harry,\n",
            "\tThis python course is nice.\n",
            "Thanks!\n"
          ]
        }
      ]
    }
  ]
}