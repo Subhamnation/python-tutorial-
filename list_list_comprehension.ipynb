{
 "cells": [
  {
   "cell_type": "code",
   "execution_count": 1,
   "id": "d7742bfe",
   "metadata": {},
   "outputs": [
    {
     "name": "stdout",
     "output_type": "stream",
     "text": [
      "<class 'list'>\n"
     ]
    }
   ],
   "source": [
    "lst = []\n",
    "print(type(lst))"
   ]
  },
  {
   "cell_type": "code",
   "execution_count": 2,
   "id": "1e755d30",
   "metadata": {},
   "outputs": [
    {
     "name": "stdout",
     "output_type": "stream",
     "text": [
      "['Kamal', 'Raj', 1, 2]\n"
     ]
    }
   ],
   "source": [
    "names = [\"Kamal\", \"Raj\", 1, 2]\n",
    "print(names)"
   ]
  },
  {
   "cell_type": "code",
   "execution_count": 3,
   "id": "ca0acdc0",
   "metadata": {},
   "outputs": [
    {
     "name": "stdout",
     "output_type": "stream",
     "text": [
      "['Kamal', 1, 2.5, True, [1, 2, 3]]\n"
     ]
    }
   ],
   "source": [
    "mixed_list = [ \"Kamal\", 1, 2.5, True, [1, 2, 3] ]\n",
    "print(mixed_list)"
   ]
  },
  {
   "cell_type": "code",
   "execution_count": 1,
   "id": "2826fadc",
   "metadata": {},
   "outputs": [
    {
     "name": "stdout",
     "output_type": "stream",
     "text": [
      "Apple\n",
      "Mango\n",
      "Orange\n",
      "Mango\n"
     ]
    }
   ],
   "source": [
    "#Accessing list elements\n",
    "fruits = [\"Apple\", \"Banana\", \"Mango\", \"Orange\"]\n",
    "print(fruits[0])  # Output: Apple\n",
    "print(fruits[2])  # Output: Mango\n",
    "print(fruits[-1]) # Output: Orange\n",
    "print(fruits[-2]) # Output: Mango"
   ]
  },
  {
   "cell_type": "code",
   "execution_count": 2,
   "id": "892741a0",
   "metadata": {},
   "outputs": [
    {
     "name": "stdout",
     "output_type": "stream",
     "text": [
      "['Banana', 'Mango', 'Orange']\n"
     ]
    }
   ],
   "source": [
    "print(fruits[1:])"
   ]
  },
  {
   "cell_type": "code",
   "execution_count": 3,
   "id": "8ed37bf1",
   "metadata": {},
   "outputs": [
    {
     "name": "stdout",
     "output_type": "stream",
     "text": [
      "['Banana', 'Mango']\n"
     ]
    }
   ],
   "source": [
    "print(fruits[1:3]) # Output: ['Banana', 'Mango']"
   ]
  },
  {
   "cell_type": "code",
   "execution_count": 9,
   "id": "02719997",
   "metadata": {},
   "outputs": [
    {
     "name": "stdout",
     "output_type": "stream",
     "text": [
      "['Orange']\n"
     ]
    }
   ],
   "source": [
    "print(fruits[-1:])"
   ]
  },
  {
   "cell_type": "code",
   "execution_count": 10,
   "id": "0d0dcb2d",
   "metadata": {},
   "outputs": [
    {
     "data": {
      "text/plain": [
       "['Apple', 'Banana', 'Mango', 'Orange']"
      ]
     },
     "execution_count": 10,
     "metadata": {},
     "output_type": "execute_result"
    }
   ],
   "source": [
    "fruits "
   ]
  },
  {
   "cell_type": "code",
   "execution_count": 11,
   "id": "2a099186",
   "metadata": {},
   "outputs": [
    {
     "name": "stdout",
     "output_type": "stream",
     "text": [
      "['Grapes', 'Banana', 'Mango', 'Orange']\n"
     ]
    }
   ],
   "source": [
    "#Modifying list elements\n",
    "fruits[0] = \"Grapes\"\n",
    "print(fruits)"
   ]
  },
  {
   "cell_type": "code",
   "execution_count": 12,
   "id": "4b0e3731",
   "metadata": {},
   "outputs": [
    {
     "data": {
      "text/plain": [
       "['Grapes', 'W', 'a', 't', 'e', 'r', 'm', 'e', 'l', 'o', 'n']"
      ]
     },
     "execution_count": 12,
     "metadata": {},
     "output_type": "execute_result"
    }
   ],
   "source": [
    "fruits[1:] =\"Watermelon\"\n",
    "fruits"
   ]
  },
  {
   "cell_type": "code",
   "execution_count": null,
   "id": "3d7babbe",
   "metadata": {},
   "outputs": [
    {
     "data": {
      "text/plain": [
       "['Apple', 'Banana', 'Mango', 'Orange', 'Grapes']"
      ]
     },
     "execution_count": 13,
     "metadata": {},
     "output_type": "execute_result"
    }
   ],
   "source": [
    "Fruits = [\"Apple\", \"Banana\", \"Mango\", \"Orange\"]\n",
    "Fruits.append(\"Grapes\") #List Methods\n",
    "Fruits\n"
   ]
  },
  {
   "cell_type": "code",
   "execution_count": 14,
   "id": "e0cbd6b2",
   "metadata": {},
   "outputs": [
    {
     "data": {
      "text/plain": [
       "['Apple', 'Pineapple', 'Banana', 'Mango', 'Orange', 'Grapes']"
      ]
     },
     "execution_count": 14,
     "metadata": {},
     "output_type": "execute_result"
    }
   ],
   "source": [
    "#List methods\n",
    "\n",
    "Fruits.insert(1, \"Pineapple\")\n",
    "Fruits\n"
   ]
  },
  {
   "cell_type": "code",
   "execution_count": 15,
   "id": "cc1497be",
   "metadata": {},
   "outputs": [
    {
     "data": {
      "text/plain": [
       "['Apple', 'Pineapple', 'Mango', 'Orange', 'Grapes']"
      ]
     },
     "execution_count": 15,
     "metadata": {},
     "output_type": "execute_result"
    }
   ],
   "source": [
    "#Removing elements from list\n",
    "\n",
    "Fruits.remove(\"Banana\")\n",
    "Fruits"
   ]
  },
  {
   "cell_type": "code",
   "execution_count": 16,
   "id": "bf0f0003",
   "metadata": {},
   "outputs": [
    {
     "data": {
      "text/plain": [
       "['Apple', 'Pineapple', 'Mango', 'Orange']"
      ]
     },
     "execution_count": 16,
     "metadata": {},
     "output_type": "execute_result"
    }
   ],
   "source": [
    "#REMOVE AND return THE LAST ELEMENT\n",
    "\n",
    "Fruits.pop()\n",
    "Fruits"
   ]
  },
  {
   "cell_type": "code",
   "execution_count": 21,
   "id": "82213b0a",
   "metadata": {},
   "outputs": [
    {
     "name": "stdout",
     "output_type": "stream",
     "text": [
      "4\n"
     ]
    },
    {
     "data": {
      "text/plain": [
       "['Apple', 'Banana', 'Banana', 'Pineapple', 'Mango', 'Orange']"
      ]
     },
     "execution_count": 21,
     "metadata": {},
     "output_type": "execute_result"
    }
   ],
   "source": [
    "index = Fruits.index(\"Mango\")\n",
    "print(index)\n",
    "Fruits"
   ]
  },
  {
   "cell_type": "code",
   "execution_count": 20,
   "id": "f411f101",
   "metadata": {},
   "outputs": [
    {
     "data": {
      "text/plain": [
       "2"
      ]
     },
     "execution_count": 20,
     "metadata": {},
     "output_type": "execute_result"
    }
   ],
   "source": [
    "Fruits.insert(1, \"Banana\")\n",
    "Fruits.count(\"Banana\")"
   ]
  },
  {
   "cell_type": "code",
   "execution_count": 23,
   "id": "a12a76c1",
   "metadata": {},
   "outputs": [
    {
     "data": {
      "text/plain": [
       "['Apple', 'Banana', 'Banana', 'Mango', 'Orange', 'Pineapple']"
      ]
     },
     "execution_count": 23,
     "metadata": {},
     "output_type": "execute_result"
    }
   ],
   "source": [
    "Fruits.sort()\n",
    "Fruits"
   ]
  },
  {
   "cell_type": "code",
   "execution_count": 25,
   "id": "9e26bce8",
   "metadata": {},
   "outputs": [
    {
     "data": {
      "text/plain": [
       "['Pineapple', 'Orange', 'Mango', 'Banana', 'Banana', 'Apple']"
      ]
     },
     "execution_count": 25,
     "metadata": {},
     "output_type": "execute_result"
    }
   ],
   "source": [
    "Fruits.reverse()\n",
    "Fruits"
   ]
  },
  {
   "cell_type": "code",
   "execution_count": 26,
   "id": "bb5e5c53",
   "metadata": {},
   "outputs": [
    {
     "name": "stdout",
     "output_type": "stream",
     "text": [
      "[3, 4, 5]\n"
     ]
    }
   ],
   "source": [
    "#Slicing lists\n",
    "\n",
    "numbers = [1, 2, 3, 4, 5, 6, 7, 8, 9, 10]\n",
    "\n",
    "print(numbers[2:5])  # Output: [3, 4, 5]"
   ]
  },
  {
   "cell_type": "code",
   "execution_count": 30,
   "id": "6eb91fc4",
   "metadata": {},
   "outputs": [
    {
     "data": {
      "text/plain": [
       "[1, 2, 3, 4, 5, 6, 7, 8, 9, 10]"
      ]
     },
     "execution_count": 30,
     "metadata": {},
     "output_type": "execute_result"
    }
   ],
   "source": [
    "numbers"
   ]
  },
  {
   "cell_type": "code",
   "execution_count": 27,
   "id": "b90da8ce",
   "metadata": {},
   "outputs": [
    {
     "name": "stdout",
     "output_type": "stream",
     "text": [
      "[1, 2, 3, 4]\n",
      "[6, 7, 8, 9, 10]\n",
      "[7, 8, 9, 10]\n"
     ]
    }
   ],
   "source": [
    "print(numbers[:4])  # Output: [1, 2, 3, 4]\n",
    "print(numbers[5:])  # Output: [6, 7, 8, 9, 10]\n",
    "print(numbers[-4:]) # Output: [7, 8, 9,"
   ]
  },
  {
   "cell_type": "code",
   "execution_count": null,
   "id": "012325e2",
   "metadata": {},
   "outputs": [
    {
     "name": "stdout",
     "output_type": "stream",
     "text": [
      "[1, 3, 5, 7, 9]\n",
      "[2, 4, 6, 8, 10]\n",
      "[10, 9, 8, 7, 6, 5, 4, 3, 2, 1]\n"
     ]
    }
   ],
   "source": [
    "print(numbers[::2]) # Output: [1, 3, 5, 7, 9] \n",
    "print(numbers[1::2]) # Output: [2, 4, 6, 8, 10]\n",
    "print(numbers[::-1]) # Output: [10, 9, 8, 7, 6, 5, 4, 3, 2, 1]"
   ]
  },
  {
   "cell_type": "code",
   "execution_count": 31,
   "id": "fa3564fd",
   "metadata": {},
   "outputs": [
    {
     "name": "stdout",
     "output_type": "stream",
     "text": [
      "Pineapple\n",
      "Orange\n",
      "Mango\n",
      "Banana\n",
      "Banana\n",
      "Apple\n"
     ]
    }
   ],
   "source": [
    "# Iterating through a list\n",
    "\n",
    "for fruit in Fruits:\n",
    "    print(fruit)"
   ]
  },
  {
   "cell_type": "code",
   "execution_count": 32,
   "id": "fd191a2b",
   "metadata": {},
   "outputs": [
    {
     "name": "stdout",
     "output_type": "stream",
     "text": [
      "1\n",
      "2\n",
      "3\n",
      "4\n",
      "5\n",
      "6\n",
      "7\n",
      "8\n",
      "9\n",
      "10\n"
     ]
    }
   ],
   "source": [
    "for num in numbers:\n",
    "    print(num)"
   ]
  },
  {
   "cell_type": "code",
   "execution_count": 33,
   "id": "548ae18f",
   "metadata": {},
   "outputs": [
    {
     "name": "stdout",
     "output_type": "stream",
     "text": [
      "Index: 0, Fruit: Pineapple\n",
      "Index: 1, Fruit: Orange\n",
      "Index: 2, Fruit: Mango\n",
      "Index: 3, Fruit: Banana\n",
      "Index: 4, Fruit: Banana\n",
      "Index: 5, Fruit: Apple\n"
     ]
    }
   ],
   "source": [
    "# Iterating through a list with index\n",
    "for index, fruit in enumerate(Fruits):\n",
    "    print(f\"Index: {index}, Fruit: {fruit}\")"
   ]
  },
  {
   "cell_type": "code",
   "execution_count": 34,
   "id": "2ada919a",
   "metadata": {},
   "outputs": [
    {
     "name": "stdout",
     "output_type": "stream",
     "text": [
      "Index: 0, Number: 1\n",
      "Index: 1, Number: 2\n",
      "Index: 2, Number: 3\n",
      "Index: 3, Number: 4\n",
      "Index: 4, Number: 5\n",
      "Index: 5, Number: 6\n",
      "Index: 6, Number: 7\n",
      "Index: 7, Number: 8\n",
      "Index: 8, Number: 9\n",
      "Index: 9, Number: 10\n"
     ]
    }
   ],
   "source": [
    "for index, num in enumerate(numbers):\n",
    "    print(f\"Index: {index}, Number: {num}\")"
   ]
  },
  {
   "cell_type": "code",
   "execution_count": 37,
   "id": "51b223d4",
   "metadata": {},
   "outputs": [
    {
     "name": "stdout",
     "output_type": "stream",
     "text": [
      "[0, 1, 4, 9, 16, 25, 36, 49, 64, 81]\n"
     ]
    }
   ],
   "source": [
    "## List Comprehensions\n",
    "lst = []\n",
    "for x  in range(10):\n",
    "    lst.append(x**2)\n",
    "print(lst)\n"
   ]
  },
  {
   "cell_type": "code",
   "execution_count": 39,
   "id": "81f1cbd2",
   "metadata": {},
   "outputs": [
    {
     "data": {
      "text/plain": [
       "[0, 1, 4, 9, 16, 25, 36, 49, 64, 81]"
      ]
     },
     "execution_count": 39,
     "metadata": {},
     "output_type": "execute_result"
    }
   ],
   "source": [
    "[x**2 for x in range(10)] # In a single line using list comprehension"
   ]
  },
  {
   "cell_type": "code",
   "execution_count": 41,
   "id": "548f79ba",
   "metadata": {},
   "outputs": [
    {
     "data": {
      "text/plain": [
       "[0, 4, 16, 36, 64]"
      ]
     },
     "execution_count": 41,
     "metadata": {},
     "output_type": "execute_result"
    }
   ],
   "source": [
    "## Basic Syntax of List Comprehension\n",
    "\n",
    "# [expression for item in iterable if condition]\n",
    "squared_numbers = [x**2 for x in range(10) if x % 2 == 0]\n",
    "squared_numbers"
   ]
  },
  {
   "cell_type": "code",
   "execution_count": 42,
   "id": "f5ca58f4",
   "metadata": {},
   "outputs": [
    {
     "data": {
      "text/plain": [
       "[0, 2, 4, 6, 8]"
      ]
     },
     "execution_count": 42,
     "metadata": {},
     "output_type": "execute_result"
    }
   ],
   "source": [
    "#with condition logic syntax for list comprehension\n",
    "\n",
    "# [expression for item in iterable if condition]\n",
    "\n",
    "filtered_numbers = [x for x in range(10) if x % 2 == 0]\n",
    "filtered_numbers"
   ]
  },
  {
   "cell_type": "code",
   "execution_count": 45,
   "id": "26409d49",
   "metadata": {},
   "outputs": [
    {
     "name": "stdout",
     "output_type": "stream",
     "text": [
      "[(1, 'a'), (1, 'b'), (1, 'c'), (1, 'd'), (2, 'a'), (2, 'b'), (2, 'c'), (2, 'd'), (3, 'a'), (3, 'b'), (3, 'c'), (3, 'd'), (4, 'a'), (4, 'b'), (4, 'c'), (4, 'd')]\n"
     ]
    }
   ],
   "source": [
    "# nested list comprehension\n",
    "\n",
    "# [expression for item1 in iterable1 for item2 in iterable2 if condition]\n",
    "\n",
    "lst1 = [1, 2, 3, 4]\n",
    "lst2 = ['a', 'b', 'c', 'd']\n",
    "\n",
    "pair = [(x, y) for x in lst1 for y in lst2]\n",
    "print(pair)"
   ]
  },
  {
   "cell_type": "code",
   "execution_count": 46,
   "id": "fb7e102f",
   "metadata": {},
   "outputs": [
    {
     "data": {
      "text/plain": [
       "[5, 5, 6, 2, 7]"
      ]
     },
     "execution_count": 46,
     "metadata": {},
     "output_type": "execute_result"
    }
   ],
   "source": [
    "# List comprehension with functions \n",
    "\n",
    "words = [\"hello\", \"world\", \"python\", \"is\", \"awesome\"]\n",
    "lengths = [len(word) for word in words]\n",
    "lengths"
   ]
  },
  {
   "cell_type": "code",
   "execution_count": null,
   "id": "e2623cec",
   "metadata": {},
   "outputs": [],
   "source": []
  }
 ],
 "metadata": {
  "kernelspec": {
   "display_name": "open3d_env",
   "language": "python",
   "name": "python3"
  },
  "language_info": {
   "codemirror_mode": {
    "name": "ipython",
    "version": 3
   },
   "file_extension": ".py",
   "mimetype": "text/x-python",
   "name": "python",
   "nbconvert_exporter": "python",
   "pygments_lexer": "ipython3",
   "version": "3.10.16"
  }
 },
 "nbformat": 4,
 "nbformat_minor": 5
}
