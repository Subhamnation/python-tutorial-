{
  "nbformat": 4,
  "nbformat_minor": 0,
  "metadata": {
    "colab": {
      "provenance": [],
      "authorship_tag": "ABX9TyP+bbOUQGSjoL2cw3G2n9gO",
      "include_colab_link": true
    },
    "kernelspec": {
      "name": "python3",
      "display_name": "Python 3"
    },
    "language_info": {
      "name": "python"
    }
  },
  "cells": [
    {
      "cell_type": "markdown",
      "metadata": {
        "id": "view-in-github",
        "colab_type": "text"
      },
      "source": [
        "<a href=\"https://colab.research.google.com/github/Subhamnation/python-tutorial-/blob/main/Random_practice.ipynb\" target=\"_parent\"><img src=\"https://colab.research.google.com/assets/colab-badge.svg\" alt=\"Open In Colab\"/></a>"
      ]
    },
    {
      "cell_type": "code",
      "execution_count": 1,
      "metadata": {
        "id": "iJzwbJ7gnxRY"
      },
      "outputs": [],
      "source": [
        "my_list = [i for i in range(1, 10)] #list comprehension"
      ]
    },
    {
      "cell_type": "code",
      "source": [
        "my_list"
      ],
      "metadata": {
        "colab": {
          "base_uri": "https://localhost:8080/"
        },
        "id": "N2ug4ntmnynI",
        "outputId": "79fa248a-666e-4fdc-c87d-831d7e9f52c1"
      },
      "execution_count": 2,
      "outputs": [
        {
          "output_type": "execute_result",
          "data": {
            "text/plain": [
              "[1, 2, 3, 4, 5, 6, 7, 8, 9]"
            ]
          },
          "metadata": {},
          "execution_count": 2
        }
      ]
    },
    {
      "cell_type": "code",
      "source": [
        "a = lambda x, y : x*y # lambda function\n",
        "print(a(7, 20))"
      ],
      "metadata": {
        "colab": {
          "base_uri": "https://localhost:8080/"
        },
        "id": "6q8mrM94n7No",
        "outputId": "d10637f1-dd7f-439a-d2d7-ea8c65d3b9af"
      },
      "execution_count": 5,
      "outputs": [
        {
          "output_type": "stream",
          "name": "stdout",
          "text": [
            "140\n"
          ]
        }
      ]
    },
    {
      "cell_type": "markdown",
      "source": [
        "## **Exception handling**"
      ],
      "metadata": {
        "id": "mWVYk81JpFID"
      }
    },
    {
      "cell_type": "code",
      "source": [
        "try:\n",
        "    age = int(input(\"Enter your age: \"))\n",
        "    if age < 0:\n",
        "        raise ValueError(\"Age cannot be negative!\")\n",
        "except ValueError as e:\n",
        "    print(f\"Error: {e}\")\n"
      ],
      "metadata": {
        "colab": {
          "base_uri": "https://localhost:8080/"
        },
        "id": "It5Pma_soYZs",
        "outputId": "f83679b1-0a19-40ee-b7d9-d044abd790df"
      },
      "execution_count": 7,
      "outputs": [
        {
          "output_type": "stream",
          "name": "stdout",
          "text": [
            "Enter your age: -4\n",
            "Error: Age cannot be negative!\n"
          ]
        }
      ]
    },
    {
      "cell_type": "code",
      "source": [
        "class CustomError(Exception):\n",
        "    pass\n",
        "\n",
        "try:\n",
        "    raise CustomError(\"This is a custom error!\")\n",
        "except CustomError as e:\n",
        "    print(f\"Caught a custom error: {e}\")\n"
      ],
      "metadata": {
        "colab": {
          "base_uri": "https://localhost:8080/"
        },
        "id": "_SYO7El3pkIX",
        "outputId": "665ee727-6334-42d0-b069-d837116a2567"
      },
      "execution_count": 8,
      "outputs": [
        {
          "output_type": "stream",
          "name": "stdout",
          "text": [
            "Caught a custom error: This is a custom error!\n"
          ]
        }
      ]
    },
    {
      "cell_type": "code",
      "source": [
        "try:\n",
        "    num = int(input(\"Enter a number: \"))\n",
        "except ValueError:\n",
        "    print(\"Invalid input!\")\n",
        "else:\n",
        "    print(f\"Your number is {num}\")"
      ],
      "metadata": {
        "colab": {
          "base_uri": "https://localhost:8080/"
        },
        "id": "qmwCSdPHprB6",
        "outputId": "e0ac27bf-a92e-42e7-d272-2aacdb336ae9"
      },
      "execution_count": 12,
      "outputs": [
        {
          "output_type": "stream",
          "name": "stdout",
          "text": [
            "Enter a number: 3r\n",
            "Invalid input!\n"
          ]
        }
      ]
    },
    {
      "cell_type": "markdown",
      "source": [
        "### **SWAP CASES**"
      ],
      "metadata": {
        "id": "5E8PORUbrdpN"
      }
    },
    {
      "cell_type": "code",
      "source": [
        "string = \"GeeksforGeeks\"\n",
        "string.swapcase()"
      ],
      "metadata": {
        "colab": {
          "base_uri": "https://localhost:8080/",
          "height": 36
        },
        "id": "RAwzdzxCpv4g",
        "outputId": "0b8e45cf-0e59-4c50-c001-c109de2d97e6"
      },
      "execution_count": 13,
      "outputs": [
        {
          "output_type": "execute_result",
          "data": {
            "text/plain": [
              "'gEEKSFORgEEKS'"
            ],
            "application/vnd.google.colaboratory.intrinsic+json": {
              "type": "string"
            }
          },
          "metadata": {},
          "execution_count": 13
        }
      ]
    },
    {
      "cell_type": "code",
      "source": [
        "count = 0\n",
        "while count < 5:\n",
        "    print(count)\n",
        "    count += 1\n"
      ],
      "metadata": {
        "colab": {
          "base_uri": "https://localhost:8080/"
        },
        "id": "Rg-Zr214rbpK",
        "outputId": "cbfb65d2-ce22-4725-fd45-fcfd39633428"
      },
      "execution_count": 14,
      "outputs": [
        {
          "output_type": "stream",
          "name": "stdout",
          "text": [
            "0\n",
            "1\n",
            "2\n",
            "3\n",
            "4\n"
          ]
        }
      ]
    },
    {
      "cell_type": "code",
      "source": [
        "for i in range(0,5):\n",
        "  print(i)"
      ],
      "metadata": {
        "colab": {
          "base_uri": "https://localhost:8080/"
        },
        "id": "sKNijmflsgGt",
        "outputId": "8e24557f-c60e-451d-b79a-01dd9dc1a326"
      },
      "execution_count": 15,
      "outputs": [
        {
          "output_type": "stream",
          "name": "stdout",
          "text": [
            "0\n",
            "1\n",
            "2\n",
            "3\n",
            "4\n"
          ]
        }
      ]
    },
    {
      "cell_type": "markdown",
      "source": [
        "### **Dictionary comprehension**"
      ],
      "metadata": {
        "id": "DlJuPZ1utep0"
      }
    },
    {
      "cell_type": "code",
      "source": [
        "my_dict = {i:i+7 for i in range(1, 10)}"
      ],
      "metadata": {
        "id": "ehgaltGxsoFP"
      },
      "execution_count": 16,
      "outputs": []
    },
    {
      "cell_type": "code",
      "source": [
        "my_dict"
      ],
      "metadata": {
        "colab": {
          "base_uri": "https://localhost:8080/"
        },
        "id": "kgjZwb0QtkCv",
        "outputId": "04f8158f-3535-4ea9-81fb-a756a72eefa8"
      },
      "execution_count": 17,
      "outputs": [
        {
          "output_type": "execute_result",
          "data": {
            "text/plain": [
              "{1: 8, 2: 9, 3: 10, 4: 11, 5: 12, 6: 13, 7: 14, 8: 15, 9: 16}"
            ]
          },
          "metadata": {},
          "execution_count": 17
        }
      ]
    },
    {
      "cell_type": "markdown",
      "source": [
        "### **Tupule Cmprehension**\n",
        "### **It is not possible because it will end up becoming generator**"
      ],
      "metadata": {
        "id": "p2-6InYkuFe_"
      }
    },
    {
      "cell_type": "code",
      "source": [
        "tup = (i for i in (1, 2, 3))\n",
        "tup"
      ],
      "metadata": {
        "colab": {
          "base_uri": "https://localhost:8080/"
        },
        "id": "bn6691lGtmIW",
        "outputId": "eb093686-554f-499d-d9b5-55b9c544a87b"
      },
      "execution_count": 19,
      "outputs": [
        {
          "output_type": "execute_result",
          "data": {
            "text/plain": [
              "<generator object <genexpr> at 0x7f6b8c1b3bc0>"
            ]
          },
          "metadata": {},
          "execution_count": 19
        }
      ]
    },
    {
      "cell_type": "code",
      "source": [
        "gen = (x * x for x in range(5))  # This is a generator, not a tuple"
      ],
      "metadata": {
        "id": "-jHNTwudt-fh"
      },
      "execution_count": 22,
      "outputs": []
    },
    {
      "cell_type": "code",
      "source": [
        "gen"
      ],
      "metadata": {
        "colab": {
          "base_uri": "https://localhost:8080/"
        },
        "id": "giabs-5TutV6",
        "outputId": "8a9ae971-a424-4f91-c82b-2657b61c8f54"
      },
      "execution_count": 23,
      "outputs": [
        {
          "output_type": "execute_result",
          "data": {
            "text/plain": [
              "<generator object <genexpr> at 0x7f6b8c20ee30>"
            ]
          },
          "metadata": {},
          "execution_count": 23
        }
      ]
    },
    {
      "cell_type": "code",
      "source": [
        "print(type(gen))  # Output: <class 'generator'>"
      ],
      "metadata": {
        "colab": {
          "base_uri": "https://localhost:8080/"
        },
        "id": "-_vnVhNbuvIg",
        "outputId": "2e50cafb-5365-4938-82e4-ecfc30fc890e"
      },
      "execution_count": 24,
      "outputs": [
        {
          "output_type": "stream",
          "name": "stdout",
          "text": [
            "<class 'generator'>\n"
          ]
        }
      ]
    },
    {
      "cell_type": "code",
      "source": [
        "# Simulating a tuple comprehension\n",
        "result = tuple(x * x for x in range(5))\n",
        "print(result)  # Output: (0, 1, 4, 9, 16)\n",
        "\"\"\"Python doesn’t directly support tuple comprehensions because generator expressions are a more memory-efficient and flexible alternative.\n",
        "You can always simulate tuple comprehensions using tuple(generator_expression) to achieve the desired result.\"\"\""
      ],
      "metadata": {
        "colab": {
          "base_uri": "https://localhost:8080/",
          "height": 72
        },
        "id": "8xJbw5OuuyxZ",
        "outputId": "5492e258-d850-479e-ec99-43990942a43e"
      },
      "execution_count": 28,
      "outputs": [
        {
          "output_type": "stream",
          "name": "stdout",
          "text": [
            "(0, 1, 4, 9, 16)\n"
          ]
        },
        {
          "output_type": "execute_result",
          "data": {
            "text/plain": [
              "'Python doesn’t directly support tuple comprehensions because generator expressions are a more memory-efficient and flexible alternative.\\nYou can always simulate tuple comprehensions using tuple(generator_expression) to achieve the desired result.'"
            ],
            "application/vnd.google.colaboratory.intrinsic+json": {
              "type": "string"
            }
          },
          "metadata": {},
          "execution_count": 28
        }
      ]
    },
    {
      "cell_type": "markdown",
      "source": [
        "### **Shallow Copy vs Deep Copy**"
      ],
      "metadata": {
        "id": "ZtNgpoVHvMaH"
      }
    },
    {
      "cell_type": "code",
      "source": [
        "import copy\n",
        "\n",
        "original = [[1, 2, 3], [4, 5, 6]]\n",
        "shallow = copy.copy(original)\n",
        "\n",
        "# Modifying a nested object\n",
        "shallow[0][0] = 99\n",
        "\n",
        "print(\"Original:\", original)  # [[99, 2, 3], [4, 5, 6]]\n",
        "print(\"Shallow:\", shallow)    # [[99, 2, 3], [4, 5, 6]]\n"
      ],
      "metadata": {
        "colab": {
          "base_uri": "https://localhost:8080/"
        },
        "id": "sxJxbpXfvHHd",
        "outputId": "255acc1a-dbbd-45db-d865-b712aad4bf2f"
      },
      "execution_count": 29,
      "outputs": [
        {
          "output_type": "stream",
          "name": "stdout",
          "text": [
            "Original: [[99, 2, 3], [4, 5, 6]]\n",
            "Shallow: [[99, 2, 3], [4, 5, 6]]\n"
          ]
        }
      ]
    },
    {
      "cell_type": "code",
      "source": [
        "import copy\n",
        "\n",
        "original = [[1, 2, 3], [4, 5, 6]]\n",
        "deep = copy.deepcopy(original)\n",
        "\n",
        "# Modifying a nested object\n",
        "deep[0][0] = 99\n",
        "\n",
        "print(\"Original:\", original)  # [[1, 2, 3], [4, 5, 6]]\n",
        "print(\"Deep:\", deep)          # [[99, 2, 3], [4, 5, 6]]\n"
      ],
      "metadata": {
        "colab": {
          "base_uri": "https://localhost:8080/"
        },
        "id": "nk5C3C93xFDy",
        "outputId": "85e4308c-1891-4648-deb3-fb45eb00207e"
      },
      "execution_count": 30,
      "outputs": [
        {
          "output_type": "stream",
          "name": "stdout",
          "text": [
            "Original: [[1, 2, 3], [4, 5, 6]]\n",
            "Deep: [[99, 2, 3], [4, 5, 6]]\n"
          ]
        }
      ]
    },
    {
      "cell_type": "markdown",
      "source": [
        "### **Dynamic Polymorphism**"
      ],
      "metadata": {
        "id": "G7_0t3XG6dCH"
      }
    },
    {
      "cell_type": "code",
      "source": [
        "class Animal:\n",
        "    def speak(self):\n",
        "        return \"I make a sound\"\n",
        "\n",
        "class Dog(Animal):\n",
        "    def speak(self):\n",
        "        return \"Woof!\"\n",
        "\n",
        "class Cat(Animal):\n",
        "    def speak(self):\n",
        "        return \"Meow!\"\n",
        "\n",
        "# Polymorphic behavior\n",
        "animals = [Dog(), Cat(), Animal()]\n",
        "for animal in animals:\n",
        "    print(animal.speak())\n",
        "# Output:\n",
        "# Woof!\n",
        "# Meow!\n",
        "# I make a sound\n"
      ],
      "metadata": {
        "colab": {
          "base_uri": "https://localhost:8080/"
        },
        "id": "X-6n4yr4xH6z",
        "outputId": "21221459-e458-4dd3-dc89-960e7c2d9eed"
      },
      "execution_count": 31,
      "outputs": [
        {
          "output_type": "stream",
          "name": "stdout",
          "text": [
            "Woof!\n",
            "Meow!\n",
            "I make a sound\n"
          ]
        }
      ]
    },
    {
      "cell_type": "code",
      "source": [],
      "metadata": {
        "colab": {
          "base_uri": "https://localhost:8080/"
        },
        "id": "LZpi7ZuN6hV2",
        "outputId": "30e97136-9124-44b6-e00b-00490a2d0e44"
      },
      "execution_count": 37,
      "outputs": [
        {
          "output_type": "stream",
          "name": "stdout",
          "text": [
            "time.struct_time(tm_year=2024, tm_mon=12, tm_mday=16, tm_hour=14, tm_min=46, tm_sec=32, tm_wday=0, tm_yday=351, tm_isdst=0)\n"
          ]
        }
      ]
    },
    {
      "cell_type": "code",
      "source": [],
      "metadata": {
        "id": "I2W81lh67Xv7"
      },
      "execution_count": null,
      "outputs": []
    }
  ]
}