{
  "nbformat": 4,
  "nbformat_minor": 0,
  "metadata": {
    "colab": {
      "provenance": []
    },
    "kernelspec": {
      "name": "python3",
      "display_name": "Python 3"
    },
    "language_info": {
      "name": "python"
    }
  },
  "cells": [
    {
      "cell_type": "code",
      "execution_count": 3,
      "metadata": {
        "colab": {
          "base_uri": "https://localhost:8080/"
        },
        "id": "fcBy3jMI_bIT",
        "outputId": "a3630859-5d6d-4e28-eca6-1ba25eaa7965"
      },
      "outputs": [
        {
          "output_type": "stream",
          "name": "stdout",
          "text": [
            "Enter no 1: 5\n",
            "Enter no 2: 80\n",
            "Sum is: 85\n"
          ]
        }
      ],
      "source": [
        "a = int(input(\"Enter no 1: \"))\n",
        "b = int(input(\"Enter no 2: \"))\n",
        "print(\"Sum is:\", a+b)"
      ]
    },
    {
      "cell_type": "code",
      "source": [
        "c = int(input('Enter the number:'))\n",
        "if c%2 == 0:\n",
        "  print ('remainder = 0. Even number')\n",
        "else:\n",
        "  print('remainder = 1. Odd number')"
      ],
      "metadata": {
        "colab": {
          "base_uri": "https://localhost:8080/"
        },
        "id": "rclQzsTq_yEm",
        "outputId": "744381c0-b49b-4ab2-8290-9a46a3c349d8"
      },
      "execution_count": 6,
      "outputs": [
        {
          "output_type": "stream",
          "name": "stdout",
          "text": [
            "Enter the number:23\n",
            "remainder = 1. Odd number\n"
          ]
        }
      ]
    },
    {
      "cell_type": "code",
      "source": [
        "a = 37\n",
        "\n",
        "b = 5\n",
        "\n",
        "print(\"Remainder when a is divided by b is\", a % b)"
      ],
      "metadata": {
        "colab": {
          "base_uri": "https://localhost:8080/"
        },
        "id": "sDSpcEdDMHx8",
        "outputId": "587fe38f-a78d-481d-bb1c-5c094512659f"
      },
      "execution_count": 25,
      "outputs": [
        {
          "output_type": "stream",
          "name": "stdout",
          "text": [
            "Remainder when a is divided by b is 2\n"
          ]
        }
      ]
    },
    {
      "cell_type": "code",
      "source": [
        "p = input(\"Enter the value of a: \")\n",
        "print(type(p))"
      ],
      "metadata": {
        "colab": {
          "base_uri": "https://localhost:8080/"
        },
        "id": "edRvSfOcBImY",
        "outputId": "fcec2128-1f7a-46fc-fcd8-7fad1173ee8a"
      },
      "execution_count": 28,
      "outputs": [
        {
          "output_type": "stream",
          "name": "stdout",
          "text": [
            "Enter the value of a: subham\n",
            "<class 'str'>\n"
          ]
        }
      ]
    },
    {
      "cell_type": "code",
      "source": [
        "e = int(input(\"Enter no 1: \"))\n",
        "f = int(input(\"Enter no 2: \"))\n",
        "if e > f:\n",
        "  print('no 1 is greater than no 2')\n",
        "else:\n",
        "  print(\"no 2 is greater than no 1\")"
      ],
      "metadata": {
        "colab": {
          "base_uri": "https://localhost:8080/"
        },
        "id": "soJT8PmbCKSz",
        "outputId": "0d553671-ad92-4ac6-a112-821ff3dc34cb"
      },
      "execution_count": 17,
      "outputs": [
        {
          "output_type": "stream",
          "name": "stdout",
          "text": [
            "Enter no 1: 34\n",
            "Enter no 2: 80\n",
            "no 2 is greater than no 1\n"
          ]
        }
      ]
    },
    {
      "cell_type": "code",
      "source": [
        "m = int(input(\"Enter number 1: \"))\n",
        "n = int(input(\"Enter number 2: \"))\n",
        "\n",
        "print(\"m is greater than n is\", m>n)"
      ],
      "metadata": {
        "colab": {
          "base_uri": "https://localhost:8080/"
        },
        "id": "OgN8jSjNMqCm",
        "outputId": "c49f6842-e7fa-4a45-f0dc-ce6f63093733"
      },
      "execution_count": 30,
      "outputs": [
        {
          "output_type": "stream",
          "name": "stdout",
          "text": [
            "Enter number 1: 34\n",
            "Enter number 2: 80\n",
            "m is greater than n is False\n"
          ]
        }
      ]
    },
    {
      "cell_type": "code",
      "source": [
        "g = float(input(\"Enter no 1: \"))\n",
        "h = float(input(\"Enter no 2: \"))\n",
        "avg = print('Mean is:', (g+h)/2)"
      ],
      "metadata": {
        "colab": {
          "base_uri": "https://localhost:8080/"
        },
        "id": "tyJS304nCuDm",
        "outputId": "fa117bc6-0f16-4fa8-e16f-d3aa7b04bb42"
      },
      "execution_count": 21,
      "outputs": [
        {
          "output_type": "stream",
          "name": "stdout",
          "text": [
            "Enter no 1: 23.456\n",
            "Enter no 2: 6.768\n",
            "Mean is: 15.112\n"
          ]
        }
      ]
    },
    {
      "cell_type": "code",
      "source": [
        "i = float(input(\"Enter the number: \"))\n",
        "print(\"The squared number is: \", i**2)\n",
        "\n",
        "print(\"The square of the number is\", i*i)\n",
        "#print(\"The square of the number is\", i^2) # Incorrect for finding square of a number in Python"
      ],
      "metadata": {
        "colab": {
          "base_uri": "https://localhost:8080/"
        },
        "id": "XLG5w5kDDDdJ",
        "outputId": "d089fc77-e576-458e-b0b3-e1591015c898"
      },
      "execution_count": 35,
      "outputs": [
        {
          "output_type": "stream",
          "name": "stdout",
          "text": [
            "Enter the number: 13\n",
            "The squared number is:  169.0\n",
            "The square of the number is 169.0\n"
          ]
        }
      ]
    },
    {
      "cell_type": "code",
      "source": [],
      "metadata": {
        "id": "gqHZplm6DuAn"
      },
      "execution_count": null,
      "outputs": []
    }
  ]
}