{
 "cells": [
  {
   "cell_type": "code",
   "execution_count": 19,
   "id": "66d282c0",
   "metadata": {},
   "outputs": [
    {
     "name": "stdout",
     "output_type": "stream",
     "text": [
      "['writing', 'written', 'writer', 'writings', 'writings', 'programming', 'programs', 'program', 'history', 'finally', 'finalize']\n"
     ]
    }
   ],
   "source": [
    "words = [\"writing\",\"written\", \"writer\", \"writings\", \"writings\", \"programming\",\"programs\",\"program\",\"history\",'finally',\"finalize\"]\n",
    "print(words)"
   ]
  },
  {
   "cell_type": "markdown",
   "id": "c19e2274",
   "metadata": {},
   "source": [
    "#### Porter Stemmer\n",
    "\n"
   ]
  },
  {
   "cell_type": "code",
   "execution_count": 4,
   "id": "e8f025d7",
   "metadata": {},
   "outputs": [
    {
     "name": "stdout",
     "output_type": "stream",
     "text": [
      "writing----->write\n",
      "written----->written\n",
      "writer----->writer\n",
      "writings----->write\n",
      "writings----->write\n",
      "programming----->program\n",
      "programs----->program\n",
      "program----->program\n",
      "history----->histori\n",
      "finally----->final\n",
      "finalize----->final\n"
     ]
    }
   ],
   "source": [
    "from nltk.stem import PorterStemmer\n",
    "stemming = PorterStemmer()\n",
    "for word in words:\n",
    "    print(word+\"----->\"+stemming.stem(word))\n"
   ]
  },
  {
   "cell_type": "code",
   "execution_count": 6,
   "id": "164b0d89",
   "metadata": {},
   "outputs": [
    {
     "data": {
      "text/plain": [
       "'congratul'"
      ]
     },
     "execution_count": 6,
     "metadata": {},
     "output_type": "execute_result"
    }
   ],
   "source": [
    "stemming.stem('congratulations')\n",
    "\n",
    "## disadvantages of stemming\n",
    "# 1. it is not accurate\n",
    "# 2. it is not language specific\n",
    "# 3. it is not context sensitive\n",
    "# 4. it is not robust\n",
    "# 5. it is not scalable\n"
   ]
  },
  {
   "cell_type": "code",
   "execution_count": 7,
   "id": "d8d316e9",
   "metadata": {},
   "outputs": [],
   "source": [
    "# solutions for stemming problems\n",
    "# Lemmatization\n",
    "\n"
   ]
  },
  {
   "cell_type": "markdown",
   "id": "794ee0d6",
   "metadata": {},
   "source": [
    "### RegexpStemmer class"
   ]
  },
  {
   "cell_type": "code",
   "execution_count": 8,
   "id": "0b0d8547",
   "metadata": {},
   "outputs": [],
   "source": [
    "from nltk.stem import RegexpStemmer"
   ]
  },
  {
   "cell_type": "code",
   "execution_count": 9,
   "id": "d6999cb0",
   "metadata": {},
   "outputs": [],
   "source": [
    "reg_stemmer = RegexpStemmer('ing$|s$|ed$|e$|ing|s|ed|e',min =4)"
   ]
  },
  {
   "cell_type": "code",
   "execution_count": 14,
   "id": "06ce0160",
   "metadata": {},
   "outputs": [
    {
     "data": {
      "text/plain": [
       "'eat'"
      ]
     },
     "execution_count": 14,
     "metadata": {},
     "output_type": "execute_result"
    }
   ],
   "source": [
    "reg_stemmer.stem(\"eat\")"
   ]
  },
  {
   "cell_type": "markdown",
   "id": "f091a25b",
   "metadata": {},
   "source": [
    "### Snowball Stemming"
   ]
  },
  {
   "cell_type": "code",
   "execution_count": 15,
   "id": "46a0129b",
   "metadata": {},
   "outputs": [],
   "source": [
    "from nltk.stem.snowball import SnowballStemmer\n"
   ]
  },
  {
   "cell_type": "code",
   "execution_count": 16,
   "id": "bdd94759",
   "metadata": {},
   "outputs": [],
   "source": [
    "snowball_stemmer = SnowballStemmer('english')\n"
   ]
  },
  {
   "cell_type": "code",
   "execution_count": 21,
   "id": "9208e440",
   "metadata": {},
   "outputs": [
    {
     "name": "stdout",
     "output_type": "stream",
     "text": [
      "writing----->write\n",
      "written----->written\n",
      "writer----->writer\n",
      "writings----->write\n",
      "writings----->write\n",
      "programming----->program\n",
      "programs----->program\n",
      "program----->program\n",
      "history----->histori\n",
      "finally----->final\n",
      "finalize----->final\n"
     ]
    }
   ],
   "source": [
    "for word in words:\n",
    "    print(word+\"----->\"+snowball_stemmer.stem(word))"
   ]
  },
  {
   "cell_type": "code",
   "execution_count": 22,
   "id": "41efaf95",
   "metadata": {},
   "outputs": [
    {
     "data": {
      "text/plain": [
       "('fairli', 'sportingli')"
      ]
     },
     "execution_count": 22,
     "metadata": {},
     "output_type": "execute_result"
    }
   ],
   "source": [
    "stemming.stem(\"fairly\"),stemming.stem(\"Sportingly\")"
   ]
  },
  {
   "cell_type": "code",
   "execution_count": 23,
   "id": "316ac9e0",
   "metadata": {},
   "outputs": [
    {
     "data": {
      "text/plain": [
       "('fair', 'sport')"
      ]
     },
     "execution_count": 23,
     "metadata": {},
     "output_type": "execute_result"
    }
   ],
   "source": [
    "snowball_stemmer.stem(\"fairly\"), snowball_stemmer.stem(\"Sportingly\")"
   ]
  },
  {
   "cell_type": "code",
   "execution_count": 25,
   "id": "a684d92c",
   "metadata": {},
   "outputs": [],
   "source": [
    "### Advantages of Snowball Stemming\n",
    "\n",
    "# 1. It is a simple and fast algorithm\n",
    "# 2. It is language independent\n",
    "# 3. It is a good choice for text preprocessing\n",
    "\n",
    "### Disadvantages of Snowball Stemming\n",
    "\n",
    "# 1. It is not a good choice for text preprocessing\n",
    "# 2. It is not language independent\n",
    "# 3. It is not a fast algorithm\n",
    "\n",
    "### Snowball Stemming Algorithm\n",
    "\n",
    "# 1. Split the word into its root and suffix\n",
    "# 2. Apply the root stemmer to the root\n",
    "# 3. Apply the suffix stemmer to the suffix\n",
    "# 4. Combine the stems\n",
    "# 5. Return the stemmed word\n"
   ]
  },
  {
   "cell_type": "code",
   "execution_count": null,
   "id": "5bc935fa",
   "metadata": {},
   "outputs": [],
   "source": []
  }
 ],
 "metadata": {
  "kernelspec": {
   "display_name": "open3d_env",
   "language": "python",
   "name": "python3"
  },
  "language_info": {
   "codemirror_mode": {
    "name": "ipython",
    "version": 3
   },
   "file_extension": ".py",
   "mimetype": "text/x-python",
   "name": "python",
   "nbconvert_exporter": "python",
   "pygments_lexer": "ipython3",
   "version": "3.10.16"
  }
 },
 "nbformat": 4,
 "nbformat_minor": 5
}
