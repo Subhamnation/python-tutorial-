{
 "cells": [
  {
   "cell_type": "code",
   "execution_count": 3,
   "id": "ce433ac7",
   "metadata": {},
   "outputs": [
    {
     "name": "stdout",
     "output_type": "stream",
     "text": [
      "Subham\n",
      "\n",
      "Hello\n",
      "How are you?\n",
      "\n",
      "Regards \n"
     ]
    }
   ],
   "source": [
    "# Reading the whole file\n",
    "\n",
    "with open('sample.txt', 'r') as file:\n",
    "    content = file.read()\n",
    "    print(content)\n",
    "\n"
   ]
  },
  {
   "cell_type": "code",
   "execution_count": 5,
   "id": "0c22946d",
   "metadata": {},
   "outputs": [
    {
     "name": "stdout",
     "output_type": "stream",
     "text": [
      "Subham Chakraborty Hiii! How are you?\n",
      "\n",
      "Hello\n",
      "How are you?\n",
      "\n",
      "Regards\n"
     ]
    }
   ],
   "source": [
    "### Read a file line by line\n",
    "\n",
    "with open('sample.txt', 'r') as file:\n",
    "    for line in file:\n",
    "        print(line.strip())\n"
   ]
  },
  {
   "cell_type": "code",
   "execution_count": 11,
   "id": "0a7dd21d",
   "metadata": {},
   "outputs": [],
   "source": [
    "# Write to a file (overwriting existing content)\n",
    "with open('sample.txt', 'w') as file:\n",
    "    file.write(\"This is a new line added to the file.\\n\") \n",
    "    file.write(\"This will overwrite the existing content.\\n\")"
   ]
  },
  {
   "cell_type": "code",
   "execution_count": 12,
   "id": "8a6feb38",
   "metadata": {},
   "outputs": [],
   "source": [
    "## Write to a file (without overwriting existing content)\n",
    "with open('sample.txt', 'a') as file:\n",
    "    file.write(\"This line will be added to the end of the file.\\n\")\n",
    "    file.write(\"Appending another line.\\n\")\n",
    "    file.write(\"Appending yet another line.\\n\")"
   ]
  },
  {
   "cell_type": "code",
   "execution_count": 13,
   "id": "6d3427f1",
   "metadata": {},
   "outputs": [],
   "source": [
    "## Writing a list of lines to a file\n",
    "\n",
    "lines = [\"First line\\n\", \"Second line\\n\", \"Third line\\n\"]\n",
    "with open('sample.txt', 'a') as file:\n",
    "    file.writelines(lines)\n",
    "    file.write(\"This is an additional line.\\n\")"
   ]
  },
  {
   "cell_type": "code",
   "execution_count": 14,
   "id": "569bf3eb",
   "metadata": {},
   "outputs": [
    {
     "name": "stdout",
     "output_type": "stream",
     "text": [
      "b'\\x00\\xffz<'\n"
     ]
    }
   ],
   "source": [
    "## BInary file stuff\n",
    "with open('sample.bin', 'wb') as bin_file:\n",
    "    bin_file.write(b'\\x00\\xFF\\x7A\\x3C') # Writing binary data\n",
    "with open('sample.bin', 'rb') as bin_file:\n",
    "    data = bin_file.read()\n",
    "    print(data)"
   ]
  },
  {
   "cell_type": "code",
   "execution_count": 15,
   "id": "07e41c4d",
   "metadata": {},
   "outputs": [],
   "source": [
    "### Read the content from a source file and write to a destination file\n",
    "\n",
    "with open('sample.txt', 'r') as src_file:\n",
    "    content = src_file.read()\n",
    "with open('destination1.txt', 'w') as dest_file:\n",
    "    dest_file.write(content)"
   ]
  },
  {
   "cell_type": "code",
   "execution_count": 16,
   "id": "f1d3faef",
   "metadata": {},
   "outputs": [
    {
     "name": "stdout",
     "output_type": "stream",
     "text": [
      "Lines: 9, Words: 44, Characters: 242\n"
     ]
    }
   ],
   "source": [
    "## Read a txt file and count the lines , words and characters\n",
    "\n",
    "with open('sample.txt', 'r') as file:\n",
    "    lines = file.readlines()\n",
    "    line_count = len(lines)\n",
    "    word_count = sum(len(line.split()) for line in lines)\n",
    "    char_count = sum(len(line) for line in lines)\n",
    "    print(f\"Lines: {line_count}, Words: {word_count}, Characters: {char_count}\")\n"
   ]
  },
  {
   "cell_type": "code",
   "execution_count": 17,
   "id": "5370283e",
   "metadata": {},
   "outputs": [
    {
     "name": "stdout",
     "output_type": "stream",
     "text": [
      "Hello World\n",
      "This is a new line\n",
      "\n"
     ]
    }
   ],
   "source": [
    "## Writing and reading a file \n",
    "# The w+ mode opens a file for both writing and reading. If the file already exists, it truncates the file to zero length. If the file does not exist, it creates a new file.\n",
    "with open('sample2.txt', 'w+') as file: # Open the file in write and read mode\n",
    "    file.write(\"Hello World\\n\")\n",
    "    file.write(\"This is a new line\\n\")\n",
    "\n",
    "    file.seek(0)  # Move the cursor to the beginning of the file to read what we just wrote\n",
    "    content = file.read() # Read the content of the file\n",
    "    print(content)"
   ]
  },
  {
   "cell_type": "code",
   "execution_count": 19,
   "id": "dbdaa3ca",
   "metadata": {},
   "outputs": [
    {
     "name": "stdout",
     "output_type": "stream",
     "text": [
      "sample2.txt\n",
      "Import_libraries.ipynb\n",
      "sample.bin\n",
      "modules\n",
      "package\n",
      "test_dir\n",
      "test.py\n",
      "File_Handling.ipynb\n",
      "example.csv\n",
      "sample.txt\n",
      "source.txt  \n",
      "destination1.txt\n",
      "destination.txt\n",
      "source.txt \n"
     ]
    }
   ],
   "source": [
    "# Listing all files in a directory\n",
    "import os\n",
    "items = os.listdir('.')\n",
    "for item in items:\n",
    "    print(item)"
   ]
  },
  {
   "cell_type": "code",
   "execution_count": 20,
   "id": "52674747",
   "metadata": {},
   "outputs": [
    {
     "name": "stdout",
     "output_type": "stream",
     "text": [
      "folder/subfolder/file.txt\n"
     ]
    }
   ],
   "source": [
    "# Join paths in a platform-independent way\n",
    "\n",
    "import os\n",
    "path = os.path.join('folder', 'subfolder', 'file.txt')\n",
    "print(path)"
   ]
  },
  {
   "cell_type": "code",
   "execution_count": 22,
   "id": "da3ff117",
   "metadata": {},
   "outputs": [
    {
     "name": "stdout",
     "output_type": "stream",
     "text": [
      "file.txt\n",
      "folder/subfolder\n"
     ]
    }
   ],
   "source": [
    "dir_name = os.path.dirname(path)\n",
    "file_name = os.path.basename(path)\n",
    "print(file_name)\n",
    "print(dir_name)"
   ]
  },
  {
   "cell_type": "code",
   "execution_count": 24,
   "id": "e9e5e0bb",
   "metadata": {},
   "outputs": [
    {
     "name": "stdout",
     "output_type": "stream",
     "text": [
      "The file sample.txt exists.\n"
     ]
    }
   ],
   "source": [
    "path = \"sample.txt\"\n",
    "if os.path.exists(path):\n",
    "    print(f\"The file {path} exists.\")\n",
    "else:\n",
    "    print(f\"The file {path} does not exist.\")   "
   ]
  },
  {
   "cell_type": "code",
   "execution_count": 27,
   "id": "f03a0160",
   "metadata": {},
   "outputs": [
    {
     "name": "stdout",
     "output_type": "stream",
     "text": [
      "sample.txt is a file.\n"
     ]
    }
   ],
   "source": [
    "# Checking if a path is a file or directory\n",
    "\n",
    "import os\n",
    "#path = \"modules/package\"\n",
    "path = \"sample.txt\"\n",
    "if os.path.isfile(path):\n",
    "    print(f\"{path} is a file.\")\n",
    "elif os.path.isdir(path):\n",
    "    print(f\"{path} is a directory.\")\n",
    "else:\n",
    "    print(f\"{path} does not exist.\")"
   ]
  },
  {
   "cell_type": "code",
   "execution_count": 28,
   "id": "5ad0ceb6",
   "metadata": {},
   "outputs": [],
   "source": [
    "# Key takeaways of file handling in Python\n",
    "# 1. Use the built-in open() function to open files in different modes (read\n",
    "#    'r', write 'w', append 'a', binary 'b', etc.).\n",
    "# 2. Always close files after operations to free up system resources, or use\n",
    "#    the with statement to handle this automatically.\n",
    "# 3. Use os module functions like os.listdir(), os.path.join(), os.path.exists\n",
    "#    to manage file paths and directories effectively.\n"
   ]
  },
  {
   "cell_type": "code",
   "execution_count": null,
   "id": "5a8250cb",
   "metadata": {},
   "outputs": [],
   "source": []
  }
 ],
 "metadata": {
  "kernelspec": {
   "display_name": "open3d_env",
   "language": "python",
   "name": "python3"
  },
  "language_info": {
   "codemirror_mode": {
    "name": "ipython",
    "version": 3
   },
   "file_extension": ".py",
   "mimetype": "text/x-python",
   "name": "python",
   "nbconvert_exporter": "python",
   "pygments_lexer": "ipython3",
   "version": "3.10.16"
  }
 },
 "nbformat": 4,
 "nbformat_minor": 5
}
