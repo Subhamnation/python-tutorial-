{
 "cells": [
  {
   "cell_type": "markdown",
   "id": "1d9105a6",
   "metadata": {},
   "source": [
    "### Exception Handling"
   ]
  },
  {
   "cell_type": "markdown",
   "id": "c9127539",
   "metadata": {},
   "source": [
    "### What are the exceptions?\n",
    "\n",
    "- Exceptions are errors that occur during the execution of a program, disrupting its normal flow. They can arise from various issues such as invalid input, file not found, division by zero, etc.\n",
    "- In Python, exceptions are represented by classes that inherit from the built-in Exception class. When an error occurs, an exception is raised, and if not handled, it will terminate the program.\n",
    "- Common built-in exceptions in Python include ValueError, TypeError, FileNotFoundError, ZeroDivisionError, and IndexError.\n",
    "### How to handle exceptions?\n",
    "- Exception handling in Python is done using the try-except block. The code that may raise an exception is placed inside the try block, and the code to handle the exception is placed inside the except block.\n",
    "- You can also use the finally block to execute code that should run regardless of whether an exception occurred or not.\n",
    "- Additionally, you can raise exceptions manually using the raise statement."
   ]
  },
  {
   "cell_type": "code",
   "execution_count": 1,
   "id": "9995eba9",
   "metadata": {},
   "outputs": [],
   "source": [
    "# Differet types of exceptions in Python\n",
    "# 1. SyntaxError: Raised when there is a syntax error in the code.\n",
    "# 2. TypeError: Raised when an operation or function is applied to an object of\n",
    "#    inappropriate type.\n",
    "# 3. ValueError: Raised when a function receives an argument of the right type\n",
    "#    but an inappropriate value.\n",
    "# 4. IndexError: Raised when trying to access an index that is out of range.\n",
    "# 5. KeyError: Raised when trying to access a dictionary key that does not exist.\n",
    "# 6. FileNotFoundError: Raised when trying to access a file that does not exist.\n",
    "# 7. ZeroDivisionError: Raised when trying to divide a number by zero."
   ]
  },
  {
   "cell_type": "code",
   "execution_count": 3,
   "id": "63182ad5",
   "metadata": {},
   "outputs": [
    {
     "name": "stdout",
     "output_type": "stream",
     "text": [
      "The result is: 3.0\n",
      "Execution completed.\n"
     ]
    }
   ],
   "source": [
    "# Try and Except block\n",
    "\n",
    "try:\n",
    "    # Code that may raise an exception\n",
    "    num1 = int(input(\"Enter first number: \"))\n",
    "    num2 = int(input(\"Enter second number: \"))\n",
    "    result = num1 / num2\n",
    "    print(f\"The result is: {result}\")\n",
    "except ZeroDivisionError:\n",
    "    print(\"Error: Division by zero is not allowed.\")\n",
    "except ValueError:\n",
    "    print(\"Error: Please enter valid integers.\")\n",
    "except Exception as e:\n",
    "    print(f\"An unexpected error occurred: {e}\")\n",
    "finally:\n",
    "    print(\"Execution completed.\")"
   ]
  },
  {
   "cell_type": "code",
   "execution_count": 1,
   "id": "efd9210b",
   "metadata": {},
   "outputs": [
    {
     "name": "stdout",
     "output_type": "stream",
     "text": [
      "The variable is not assigned.\n"
     ]
    }
   ],
   "source": [
    "# Exception try, except block \n",
    "\n",
    "try:\n",
    "    a = b\n",
    "except:\n",
    "    print(\"The variable is not assigned.\")"
   ]
  },
  {
   "cell_type": "code",
   "execution_count": 2,
   "id": "54e561de",
   "metadata": {},
   "outputs": [
    {
     "ename": "NameError",
     "evalue": "name 'b' is not defined",
     "output_type": "error",
     "traceback": [
      "\u001b[0;31m---------------------------------------------------------------------------\u001b[0m",
      "\u001b[0;31mNameError\u001b[0m                                 Traceback (most recent call last)",
      "Cell \u001b[0;32mIn[2], line 1\u001b[0m\n\u001b[0;32m----> 1\u001b[0m a \u001b[38;5;241m=\u001b[39m \u001b[43mb\u001b[49m\n",
      "\u001b[0;31mNameError\u001b[0m: name 'b' is not defined"
     ]
    }
   ],
   "source": [
    "a = b"
   ]
  },
  {
   "cell_type": "code",
   "execution_count": 3,
   "id": "92d3af79",
   "metadata": {},
   "outputs": [
    {
     "name": "stdout",
     "output_type": "stream",
     "text": [
      "name 'b' is not defined\n"
     ]
    }
   ],
   "source": [
    "try:\n",
    "    a = b\n",
    "except NameError as ex:\n",
    "    print(ex)"
   ]
  },
  {
   "cell_type": "code",
   "execution_count": 4,
   "id": "1f472d07",
   "metadata": {},
   "outputs": [
    {
     "ename": "ZeroDivisionError",
     "evalue": "division by zero",
     "output_type": "error",
     "traceback": [
      "\u001b[0;31m---------------------------------------------------------------------------\u001b[0m",
      "\u001b[0;31mZeroDivisionError\u001b[0m                         Traceback (most recent call last)",
      "Cell \u001b[0;32mIn[4], line 1\u001b[0m\n\u001b[0;32m----> 1\u001b[0m result \u001b[38;5;241m=\u001b[39m \u001b[38;5;241;43m1\u001b[39;49m\u001b[38;5;241;43m/\u001b[39;49m\u001b[38;5;241;43m0\u001b[39;49m\n",
      "\u001b[0;31mZeroDivisionError\u001b[0m: division by zero"
     ]
    }
   ],
   "source": [
    "result = 1/0"
   ]
  },
  {
   "cell_type": "code",
   "execution_count": 6,
   "id": "bf329a0d",
   "metadata": {},
   "outputs": [
    {
     "name": "stdout",
     "output_type": "stream",
     "text": [
      "division by zero\n",
      "Please enter a non-zero denominator.\n"
     ]
    }
   ],
   "source": [
    "try:\n",
    "    result = 1/0\n",
    "except ZeroDivisionError as ex:\n",
    "    print(ex)\n",
    "    print(\"Please enter a non-zero denominator.\")"
   ]
  },
  {
   "cell_type": "code",
   "execution_count": 9,
   "id": "b363cb2c",
   "metadata": {},
   "outputs": [
    {
     "name": "stdout",
     "output_type": "stream",
     "text": [
      "name 'b' is not defined\n",
      "Main exception occurred here.\n"
     ]
    }
   ],
   "source": [
    "try:\n",
    "    result = 1/2\n",
    "    a = b\n",
    "except ZeroDivisionError as ex:\n",
    "    print(ex)\n",
    "    print(\"Please enter a non-zero denominator.\")\n",
    "except Exception as ex1:\n",
    "    print(ex1)\n",
    "    print(\"Main exception occurred here.\")"
   ]
  },
  {
   "cell_type": "code",
   "execution_count": 14,
   "id": "4d68328f",
   "metadata": {},
   "outputs": [
    {
     "name": "stdout",
     "output_type": "stream",
     "text": [
      "Result is: 0.8333333333333334\n",
      "Execution completed.\n"
     ]
    }
   ],
   "source": [
    "try:\n",
    "    num = int(input(\"Enter a number: \"))\n",
    "    result = 10 / num\n",
    "except ValueError:\n",
    "    print(\"Invalid input! Please enter a valid integer.\")\n",
    "except ZeroDivisionError:\n",
    "    print(\"Error: Division by zero is not allowed.\")\n",
    "else:\n",
    "    print(f\"Result is: {result}\")\n",
    "finally:\n",
    "    print(\"Execution completed.\")"
   ]
  },
  {
   "cell_type": "code",
   "execution_count": 20,
   "id": "04d64608",
   "metadata": {},
   "outputs": [
    {
     "name": "stdout",
     "output_type": "stream",
     "text": [
      "Result is: 2.5\n"
     ]
    }
   ],
   "source": [
    "## try, except, else block  \n",
    "\n",
    "try:\n",
    "    num = int(input(\"Enter a number: \"))\n",
    "    result = 10 / num\n",
    "except ValueError:\n",
    "    print(\"Invalid input! Please enter a valid integer.\")\n",
    "except ZeroDivisionError:\n",
    "    print(\"Error: Division by zero is not allowed.\")\n",
    "except Exception as e:\n",
    "    print(f\"An unexpected error occurred: {e}\")\n",
    "else:\n",
    "    print(f\"Result is: {result}\")"
   ]
  },
  {
   "cell_type": "code",
   "execution_count": 23,
   "id": "cbe99684",
   "metadata": {},
   "outputs": [
    {
     "name": "stdout",
     "output_type": "stream",
     "text": [
      "This is a new line added to the file.\n",
      "This will overwrite the existing content.\n",
      "This line will be added to the end of the file.\n",
      "Appending another line.\n",
      "Appending yet another line.\n",
      "First line\n",
      "Second line\n",
      "Third line\n",
      "This is an additional line.\n",
      "\n",
      "File closed.\n",
      "Execution completed.\n"
     ]
    }
   ],
   "source": [
    "## File handling with exception blocks\n",
    "\n",
    "try:\n",
    "    file = open(\"sample.txt\", \"r\")\n",
    "    content = file.read()\n",
    "    print(content)\n",
    "except FileNotFoundError:\n",
    "    print(\"Error: The file was not found.\")\n",
    "\n",
    "finally:\n",
    "    if 'file' in locals() and not file.closed: # Check if file is defined and open\n",
    "        file.close()\n",
    "        print(\"File closed.\")\n",
    "    print(\"Execution completed.\")"
   ]
  },
  {
   "cell_type": "code",
   "execution_count": null,
   "id": "5e9690d8",
   "metadata": {},
   "outputs": [],
   "source": []
  }
 ],
 "metadata": {
  "kernelspec": {
   "display_name": "open3d_env",
   "language": "python",
   "name": "python3"
  },
  "language_info": {
   "codemirror_mode": {
    "name": "ipython",
    "version": 3
   },
   "file_extension": ".py",
   "mimetype": "text/x-python",
   "name": "python",
   "nbconvert_exporter": "python",
   "pygments_lexer": "ipython3",
   "version": "3.10.16"
  }
 },
 "nbformat": 4,
 "nbformat_minor": 5
}
