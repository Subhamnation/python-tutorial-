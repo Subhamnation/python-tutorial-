{
  "nbformat": 4,
  "nbformat_minor": 0,
  "metadata": {
    "colab": {
      "provenance": []
    },
    "kernelspec": {
      "name": "python3",
      "display_name": "Python 3"
    },
    "language_info": {
      "name": "python"
    }
  },
  "cells": [
    {
      "cell_type": "code",
      "execution_count": 1,
      "metadata": {
        "id": "I4krm0ey6qSS"
      },
      "outputs": [],
      "source": [
        "import numpy as np\n",
        "import matplotlib.pyplot as plt"
      ]
    },
    {
      "cell_type": "markdown",
      "source": [
        "## **Print First 10 digits**"
      ],
      "metadata": {
        "id": "Swan9ZZbLQK3"
      }
    },
    {
      "cell_type": "code",
      "source": [
        "a = [ 1,  2,  3,  4,  5,  6,  7,  8,  9, 10]\n",
        "print(a)"
      ],
      "metadata": {
        "colab": {
          "base_uri": "https://localhost:8080/"
        },
        "id": "vKrMkExKLNvT",
        "outputId": "1cf774fe-6a4a-49f5-99d6-185b4a0da71d"
      },
      "execution_count": 5,
      "outputs": [
        {
          "output_type": "stream",
          "name": "stdout",
          "text": [
            "[1, 2, 3, 4, 5, 6, 7, 8, 9, 10]\n"
          ]
        }
      ]
    },
    {
      "cell_type": "markdown",
      "source": [
        "## **Print Hello 10 times**"
      ],
      "metadata": {
        "id": "EhrTyOQJLoDi"
      }
    },
    {
      "cell_type": "code",
      "source": [
        "b = [\"Hello\",\"Hello\",\"Hello\",\"Hello\",\"Hello\",\"Hello\",\"Hello\",\"Hello\",\"Hello\",\"Hello\"]\n",
        "print(b)"
      ],
      "metadata": {
        "colab": {
          "base_uri": "https://localhost:8080/"
        },
        "id": "5_js6yRXLlCr",
        "outputId": "018263cc-aa6e-41a0-aa77-08f7b7910c13"
      },
      "execution_count": 7,
      "outputs": [
        {
          "output_type": "stream",
          "name": "stdout",
          "text": [
            "['Hello', 'Hello', 'Hello', 'Hello', 'Hello', 'Hello', 'Hello', 'Hello', 'Hello', 'Hello']\n"
          ]
        }
      ]
    },
    {
      "cell_type": "code",
      "source": [
        "len(b)"
      ],
      "metadata": {
        "colab": {
          "base_uri": "https://localhost:8080/"
        },
        "id": "pJY6Pp8jME1W",
        "outputId": "c782b4d9-3b60-4106-a33f-a61cb3c9c19f"
      },
      "execution_count": 8,
      "outputs": [
        {
          "output_type": "execute_result",
          "data": {
            "text/plain": [
              "10"
            ]
          },
          "metadata": {},
          "execution_count": 8
        }
      ]
    },
    {
      "cell_type": "markdown",
      "source": [
        "## **For Loop**\n",
        "### **Printing Digits with For loop**\n",
        "### The range() function returns a sequence of numbers, starting from 0 and increments by 1 but does not include the last number\n"
      ],
      "metadata": {
        "id": "Yqxjne7AMJru"
      }
    },
    {
      "cell_type": "code",
      "source": [
        "for i in range(11):\n",
        "  print(i)"
      ],
      "metadata": {
        "colab": {
          "base_uri": "https://localhost:8080/"
        },
        "id": "mnFcUJz8MGIE",
        "outputId": "0709d16c-37f9-496b-94ab-745caafad2ae"
      },
      "execution_count": 9,
      "outputs": [
        {
          "output_type": "stream",
          "name": "stdout",
          "text": [
            "0\n",
            "1\n",
            "2\n",
            "3\n",
            "4\n",
            "5\n",
            "6\n",
            "7\n",
            "8\n",
            "9\n",
            "10\n"
          ]
        }
      ]
    },
    {
      "cell_type": "code",
      "source": [
        "for i in range(1,11):\n",
        "  print(i)"
      ],
      "metadata": {
        "colab": {
          "base_uri": "https://localhost:8080/"
        },
        "id": "4mOYbLijMqbq",
        "outputId": "08262731-cb52-43f3-9b66-c17257d10c72"
      },
      "execution_count": 12,
      "outputs": [
        {
          "output_type": "stream",
          "name": "stdout",
          "text": [
            "1\n",
            "2\n",
            "3\n",
            "4\n",
            "5\n",
            "6\n",
            "7\n",
            "8\n",
            "9\n",
            "10\n"
          ]
        }
      ]
    },
    {
      "cell_type": "code",
      "source": [
        "for i in range(1,101):\n",
        "  print(i)"
      ],
      "metadata": {
        "colab": {
          "base_uri": "https://localhost:8080/"
        },
        "id": "hxqEJh55Mv7P",
        "outputId": "2627b03e-ae9c-403f-b00b-72eb847a8742"
      },
      "execution_count": 13,
      "outputs": [
        {
          "output_type": "stream",
          "name": "stdout",
          "text": [
            "1\n",
            "2\n",
            "3\n",
            "4\n",
            "5\n",
            "6\n",
            "7\n",
            "8\n",
            "9\n",
            "10\n",
            "11\n",
            "12\n",
            "13\n",
            "14\n",
            "15\n",
            "16\n",
            "17\n",
            "18\n",
            "19\n",
            "20\n",
            "21\n",
            "22\n",
            "23\n",
            "24\n",
            "25\n",
            "26\n",
            "27\n",
            "28\n",
            "29\n",
            "30\n",
            "31\n",
            "32\n",
            "33\n",
            "34\n",
            "35\n",
            "36\n",
            "37\n",
            "38\n",
            "39\n",
            "40\n",
            "41\n",
            "42\n",
            "43\n",
            "44\n",
            "45\n",
            "46\n",
            "47\n",
            "48\n",
            "49\n",
            "50\n",
            "51\n",
            "52\n",
            "53\n",
            "54\n",
            "55\n",
            "56\n",
            "57\n",
            "58\n",
            "59\n",
            "60\n",
            "61\n",
            "62\n",
            "63\n",
            "64\n",
            "65\n",
            "66\n",
            "67\n",
            "68\n",
            "69\n",
            "70\n",
            "71\n",
            "72\n",
            "73\n",
            "74\n",
            "75\n",
            "76\n",
            "77\n",
            "78\n",
            "79\n",
            "80\n",
            "81\n",
            "82\n",
            "83\n",
            "84\n",
            "85\n",
            "86\n",
            "87\n",
            "88\n",
            "89\n",
            "90\n",
            "91\n",
            "92\n",
            "93\n",
            "94\n",
            "95\n",
            "96\n",
            "97\n",
            "98\n",
            "99\n",
            "100\n"
          ]
        }
      ]
    },
    {
      "cell_type": "markdown",
      "source": [
        "### **Syntax of for loop**"
      ],
      "metadata": {
        "id": "nOYmc5BaNPIw"
      }
    },
    {
      "cell_type": "markdown",
      "source": [
        "## **Print Hello 10 times using 10 times**"
      ],
      "metadata": {
        "id": "CbwjiE9zNW9P"
      }
    },
    {
      "cell_type": "code",
      "source": [
        "for j in range(10):\n",
        "  print(\"Hello\")"
      ],
      "metadata": {
        "colab": {
          "base_uri": "https://localhost:8080/"
        },
        "id": "yp6teUHyM2Qj",
        "outputId": "f751397c-8ee9-446f-9d6e-3ce5d2ed0208"
      },
      "execution_count": 16,
      "outputs": [
        {
          "output_type": "stream",
          "name": "stdout",
          "text": [
            "Hello\n",
            "Hello\n",
            "Hello\n",
            "Hello\n",
            "Hello\n",
            "Hello\n",
            "Hello\n",
            "Hello\n",
            "Hello\n",
            "Hello\n"
          ]
        }
      ]
    },
    {
      "cell_type": "markdown",
      "source": [
        "## **Print even numbers with for loops and if statement**"
      ],
      "metadata": {
        "id": "lDywNOgVNoqS"
      }
    },
    {
      "cell_type": "code",
      "source": [
        "for j in range(1,20):\n",
        "  if j % 2 == 0:\n",
        "    print(j)"
      ],
      "metadata": {
        "colab": {
          "base_uri": "https://localhost:8080/"
        },
        "id": "J8CAt1DANgDF",
        "outputId": "ed93505d-140a-4166-cbec-3f017af4c948"
      },
      "execution_count": 19,
      "outputs": [
        {
          "output_type": "stream",
          "name": "stdout",
          "text": [
            "2\n",
            "4\n",
            "6\n",
            "8\n",
            "10\n",
            "12\n",
            "14\n",
            "16\n",
            "18\n"
          ]
        }
      ]
    },
    {
      "cell_type": "markdown",
      "source": [
        "## **Print odd numbers with for loops and if statement**"
      ],
      "metadata": {
        "id": "mex41vy4OKZL"
      }
    },
    {
      "cell_type": "code",
      "source": [
        "for j in range(1,20):\n",
        "  if j % 2 != 0:\n",
        "    print(j)"
      ],
      "metadata": {
        "colab": {
          "base_uri": "https://localhost:8080/"
        },
        "id": "CR5PrJ1FOA8Z",
        "outputId": "07ef9dab-8798-43b6-ec47-1de8509f23b3"
      },
      "execution_count": 22,
      "outputs": [
        {
          "output_type": "stream",
          "name": "stdout",
          "text": [
            "1\n",
            "3\n",
            "5\n",
            "7\n",
            "9\n",
            "11\n",
            "13\n",
            "15\n",
            "17\n",
            "19\n"
          ]
        }
      ]
    },
    {
      "cell_type": "markdown",
      "source": [
        "## **Print numbers between 1 and 1000 divisible by 15**"
      ],
      "metadata": {
        "id": "f1p_ALrDO-B6"
      }
    },
    {
      "cell_type": "code",
      "source": [
        "for k in range(1, 1000):\n",
        "  if k % 3 == 0 and k % 5 == 0:\n",
        "    print(k)"
      ],
      "metadata": {
        "colab": {
          "base_uri": "https://localhost:8080/"
        },
        "id": "5aXer3fgOeVQ",
        "outputId": "db45e032-f205-4919-fb40-dcf306d4adeb"
      },
      "execution_count": 24,
      "outputs": [
        {
          "output_type": "stream",
          "name": "stdout",
          "text": [
            "15\n",
            "30\n",
            "45\n",
            "60\n",
            "75\n",
            "90\n",
            "105\n",
            "120\n",
            "135\n",
            "150\n",
            "165\n",
            "180\n",
            "195\n",
            "210\n",
            "225\n",
            "240\n",
            "255\n",
            "270\n",
            "285\n",
            "300\n",
            "315\n",
            "330\n",
            "345\n",
            "360\n",
            "375\n",
            "390\n",
            "405\n",
            "420\n",
            "435\n",
            "450\n",
            "465\n",
            "480\n",
            "495\n",
            "510\n",
            "525\n",
            "540\n",
            "555\n",
            "570\n",
            "585\n",
            "600\n",
            "615\n",
            "630\n",
            "645\n",
            "660\n",
            "675\n",
            "690\n",
            "705\n",
            "720\n",
            "735\n",
            "750\n",
            "765\n",
            "780\n",
            "795\n",
            "810\n",
            "825\n",
            "840\n",
            "855\n",
            "870\n",
            "885\n",
            "900\n",
            "915\n",
            "930\n",
            "945\n",
            "960\n",
            "975\n",
            "990\n"
          ]
        }
      ]
    },
    {
      "cell_type": "code",
      "source": [
        "for num in range(1, 1000):\n",
        "  if num % 15 == 0:\n",
        "    print(num)"
      ],
      "metadata": {
        "colab": {
          "base_uri": "https://localhost:8080/"
        },
        "id": "uews3kQ7OzZ3",
        "outputId": "41798b11-36a5-49f7-9c5b-7958404c84b5"
      },
      "execution_count": 26,
      "outputs": [
        {
          "output_type": "stream",
          "name": "stdout",
          "text": [
            "15\n",
            "30\n",
            "45\n",
            "60\n",
            "75\n",
            "90\n",
            "105\n",
            "120\n",
            "135\n",
            "150\n",
            "165\n",
            "180\n",
            "195\n",
            "210\n",
            "225\n",
            "240\n",
            "255\n",
            "270\n",
            "285\n",
            "300\n",
            "315\n",
            "330\n",
            "345\n",
            "360\n",
            "375\n",
            "390\n",
            "405\n",
            "420\n",
            "435\n",
            "450\n",
            "465\n",
            "480\n",
            "495\n",
            "510\n",
            "525\n",
            "540\n",
            "555\n",
            "570\n",
            "585\n",
            "600\n",
            "615\n",
            "630\n",
            "645\n",
            "660\n",
            "675\n",
            "690\n",
            "705\n",
            "720\n",
            "735\n",
            "750\n",
            "765\n",
            "780\n",
            "795\n",
            "810\n",
            "825\n",
            "840\n",
            "855\n",
            "870\n",
            "885\n",
            "900\n",
            "915\n",
            "930\n",
            "945\n",
            "960\n",
            "975\n",
            "990\n"
          ]
        }
      ]
    },
    {
      "cell_type": "markdown",
      "source": [
        "## **Numbers between 1 and 1000 divisible by 9 and 19**"
      ],
      "metadata": {
        "id": "F7-aGb8NPIE3"
      }
    },
    {
      "cell_type": "code",
      "source": [
        "list = [] # create an empty list for placeholder\n",
        "for num in range(1, 1000):\n",
        "  if num % 9 == 0 and num % 19 == 0:\n",
        "    list.append(num)\n",
        "print(list)"
      ],
      "metadata": {
        "colab": {
          "base_uri": "https://localhost:8080/"
        },
        "id": "qdAtbLc4PG8E",
        "outputId": "9621b259-f261-4408-f25e-8d901d992cb8"
      },
      "execution_count": 31,
      "outputs": [
        {
          "output_type": "stream",
          "name": "stdout",
          "text": [
            "[171, 342, 513, 684, 855]\n"
          ]
        }
      ]
    },
    {
      "cell_type": "markdown",
      "source": [
        "## **Sum of first 10 numbers**"
      ],
      "metadata": {
        "id": "mPArVOFwQjpf"
      }
    },
    {
      "cell_type": "code",
      "source": [
        "sum = 0\n",
        "for num in range(1,11):\n",
        "  sum = sum + num\n",
        "print(sum)"
      ],
      "metadata": {
        "colab": {
          "base_uri": "https://localhost:8080/"
        },
        "id": "9fT-yO6cP9RK",
        "outputId": "808d5b34-7156-442e-fa26-021af51eae06"
      },
      "execution_count": 35,
      "outputs": [
        {
          "output_type": "stream",
          "name": "stdout",
          "text": [
            "55\n"
          ]
        }
      ]
    },
    {
      "cell_type": "code",
      "source": [],
      "metadata": {
        "id": "Ipiyt4D4Q1cu"
      },
      "execution_count": null,
      "outputs": []
    }
  ]
}