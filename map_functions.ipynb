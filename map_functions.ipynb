{
 "cells": [
  {
   "cell_type": "markdown",
   "id": "211b3e4d",
   "metadata": {},
   "source": [
    "#### Map Function()"
   ]
  },
  {
   "cell_type": "code",
   "execution_count": 1,
   "id": "04257a03",
   "metadata": {},
   "outputs": [],
   "source": [
    "# THe map function applies a given function to all items in an iterable (like a list) and returns a map object (which is an iterator).\n",
    "# Lambda functions are small anonymous functions defined with the lambda keyword.\n",
    "# They can take any number of arguments but can only have one expression."
   ]
  },
  {
   "cell_type": "code",
   "execution_count": 2,
   "id": "f16ebf52",
   "metadata": {},
   "outputs": [
    {
     "data": {
      "text/plain": [
       "9"
      ]
     },
     "execution_count": 2,
     "metadata": {},
     "output_type": "execute_result"
    }
   ],
   "source": [
    "def square(x):\n",
    "    return x ** 2\n",
    "\n",
    "square(3)\n"
   ]
  },
  {
   "cell_type": "code",
   "execution_count": 3,
   "id": "39ae4352",
   "metadata": {},
   "outputs": [
    {
     "data": {
      "text/plain": [
       "[1, 4, 9, 16, 25]"
      ]
     },
     "execution_count": 3,
     "metadata": {},
     "output_type": "execute_result"
    }
   ],
   "source": [
    "numbers = [1, 2, 3, 4, 5]\n",
    "list(map(square, numbers)) # map function applies square function to each element in numbers list\n",
    "\n"
   ]
  },
  {
   "cell_type": "code",
   "execution_count": 4,
   "id": "fb288fe5",
   "metadata": {},
   "outputs": [
    {
     "data": {
      "text/plain": [
       "[1, 4, 9, 16, 25]"
      ]
     },
     "execution_count": 4,
     "metadata": {},
     "output_type": "execute_result"
    }
   ],
   "source": [
    "### Lambda Functions with Map\n",
    "numbers = [1, 2, 3, 4, 5]\n",
    "list(map(lambda num: num ** 2, numbers))"
   ]
  },
  {
   "cell_type": "code",
   "execution_count": 8,
   "id": "bf1310b9",
   "metadata": {},
   "outputs": [
    {
     "data": {
      "text/plain": [
       "[5, 7, 9]"
      ]
     },
     "execution_count": 8,
     "metadata": {},
     "output_type": "execute_result"
    }
   ],
   "source": [
    "## Map multiple iterables with lambda\n",
    "\n",
    "list1 = [1, 2, 3]\n",
    "list2 = [4, 5, 6]\n",
    "\n",
    "list(map(lambda x, y: x + y, list1, list2))\n",
    "# syntax: map(function, iterable1, iterable2, ...)"
   ]
  },
  {
   "cell_type": "code",
   "execution_count": 10,
   "id": "96e684d7",
   "metadata": {},
   "outputs": [
    {
     "name": "stdout",
     "output_type": "stream",
     "text": [
      "[1, 2, 3, 4, 5]\n"
     ]
    }
   ],
   "source": [
    "### map function to convert a list of strings to integers \n",
    "\n",
    "string_numbers = ['1', '2', '3', '4', '5']\n",
    "integer_list = list(map(int, string_numbers))\n",
    "print(integer_list)\n",
    "# Here, the int function is applied to each string in the list, converting them to integers."
   ]
  },
  {
   "cell_type": "code",
   "execution_count": 11,
   "id": "16962e04",
   "metadata": {},
   "outputs": [
    {
     "name": "stdout",
     "output_type": "stream",
     "text": [
      "['APPLE', 'BANANA', 'CHERRY']\n"
     ]
    }
   ],
   "source": [
    "words  = ['apple', 'banana', 'cherry']\n",
    "upper_words = list(map(str.upper, words))\n",
    "print(upper_words)\n"
   ]
  },
  {
   "cell_type": "code",
   "execution_count": 12,
   "id": "5f78f352",
   "metadata": {},
   "outputs": [
    {
     "name": "stdout",
     "output_type": "stream",
     "text": [
      "['Alice', 'Bob', 'Charlie']\n"
     ]
    }
   ],
   "source": [
    "def get_name(person):\n",
    "    return person['name']\n",
    "\n",
    "people = [\n",
    "    {'name': 'Alice', 'age': 30},\n",
    "    {'name': 'Bob', 'age': 25},\n",
    "    {'name': 'Charlie', 'age': 35}\n",
    "]\n",
    "\n",
    "names = list(map(get_name, people))\n",
    "print(names)\n"
   ]
  },
  {
   "cell_type": "code",
   "execution_count": null,
   "id": "511e5a25",
   "metadata": {},
   "outputs": [],
   "source": []
  }
 ],
 "metadata": {
  "kernelspec": {
   "display_name": "open3d_env",
   "language": "python",
   "name": "python3"
  },
  "language_info": {
   "codemirror_mode": {
    "name": "ipython",
    "version": 3
   },
   "file_extension": ".py",
   "mimetype": "text/x-python",
   "name": "python",
   "nbconvert_exporter": "python",
   "pygments_lexer": "ipython3",
   "version": "3.10.16"
  }
 },
 "nbformat": 4,
 "nbformat_minor": 5
}
