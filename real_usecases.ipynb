{
 "cells": [
  {
   "cell_type": "markdown",
   "id": "d2c6aada",
   "metadata": {},
   "source": [
    "### Real World Applications"
   ]
  },
  {
   "cell_type": "markdown",
   "id": "ebeb0c4f",
   "metadata": {},
   "source": [
    "#### Example 1: \n",
    "##### Manage a to-do list to track tasks and their statuses."
   ]
  },
  {
   "cell_type": "code",
   "execution_count": null,
   "id": "2c372278",
   "metadata": {},
   "outputs": [
    {
     "name": "stdout",
     "output_type": "stream",
     "text": [
      "Task found: Clean the house\n",
      "To-do List: ['Buy groceries', 'Clean the house', 'Walk the dog', 'Read a book']\n",
      "- Buy groceries\n",
      "- Clean the house\n",
      "- Walk the dog\n",
      "- Read a book\n"
     ]
    }
   ],
   "source": [
    "\n",
    "\n",
    "todo_list = ['Buy groceries', 'Clean the house', 'Pay bills']\n",
    "\n",
    "# Adding a new task\n",
    "todo_list.append('Walk the dog')\n",
    "todo_list.append('Read a book')\n",
    "\n",
    "# Removing a completed task\n",
    "todo_list.remove('Pay bills')\n",
    "\n",
    "# checking if a task is in the list\n",
    "if 'Clean the house' in todo_list:\n",
    "    print(\"Task found: Clean the house\")\n",
    "\n",
    "if 'Pay bills' in todo_list:\n",
    "    print(\"Task found: Pay bills\")\n",
    "\n",
    "print(\"To-do List:\", todo_list)\n",
    "for task in todo_list:\n",
    "    print(\"-\", task)"
   ]
  },
  {
   "cell_type": "markdown",
   "id": "6ee63deb",
   "metadata": {},
   "source": [
    "#### Example 2: Organizing student grades "
   ]
  },
  {
   "cell_type": "code",
   "execution_count": 3,
   "id": "9447cb09",
   "metadata": {},
   "outputs": [
    {
     "name": "stdout",
     "output_type": "stream",
     "text": [
      "Average Grade: 88.0\n",
      "Highest Grade: 95\n",
      "Lowest Grade: 78\n"
     ]
    }
   ],
   "source": [
    "grades = [85, 92, 78, 90, 88]\n",
    "\n",
    "# Adding a new grade\n",
    "grades.append(95)\n",
    "\n",
    "# Calculating average grade\n",
    "average_grade = sum(grades) / len(grades)\n",
    "print(\"Average Grade:\", average_grade)\n",
    "\n",
    "# Finding highest and lowest grades\n",
    "highest_grade = max(grades)\n",
    "lowest_grade = min(grades)\n",
    "print(\"Highest Grade:\", highest_grade)\n",
    "print(\"Lowest Grade:\", lowest_grade)"
   ]
  },
  {
   "cell_type": "markdown",
   "id": "761188c9",
   "metadata": {},
   "source": [
    "#### Example 3: Managing inventory items in a store "
   ]
  },
  {
   "cell_type": "code",
   "execution_count": 6,
   "id": "576bdae7",
   "metadata": {},
   "outputs": [
    {
     "name": "stdout",
     "output_type": "stream",
     "text": [
      "Item in stock: apples\n",
      "Current Inventory: ['apples', 'oranges', 'mangoes', 'pears']\n",
      "- apples\n",
      "- oranges\n",
      "- mangoes\n",
      "- pears\n"
     ]
    }
   ],
   "source": [
    "# Managing inventory items in a store\n",
    "\n",
    "inventory = ['apples', 'bananas', 'oranges', 'grapes']\n",
    "\n",
    "# Adding new items to inventory\n",
    "inventory.append('mangoes')\n",
    "inventory.append('pears')\n",
    "\n",
    "# Removing sold items from inventory\n",
    "inventory.remove('bananas') \n",
    "inventory.remove('grapes')\n",
    "\n",
    "# Checking if an item is in stock\n",
    "if 'apples' in inventory:\n",
    "    print(\"Item in stock: apples\")  \n",
    "if 'bananas' in inventory:\n",
    "    print(\"Item in stock: bananas\") \n",
    "\n",
    "# Displaying current inventory\n",
    "print(\"Current Inventory:\", inventory)\n",
    "for item in inventory:\n",
    "    print(\"-\", item)"
   ]
  },
  {
   "cell_type": "markdown",
   "id": "b434bd40",
   "metadata": {},
   "source": [
    "#### Example 4: Collecting User Feedback \n"
   ]
  },
  {
   "cell_type": "code",
   "execution_count": 8,
   "id": "6ea9b2cd",
   "metadata": {},
   "outputs": [
    {
     "name": "stdout",
     "output_type": "stream",
     "text": [
      "User Feedback:\n",
      "- Great service\n",
      "- Friendly staff\n",
      "- Could improve wait times\n",
      "- Excellent food\n",
      "- Loved the ambiance\n",
      "- Will come again\n",
      "Number of positive feedbacks: 2\n"
     ]
    }
   ],
   "source": [
    "# Collecting User Feedback\n",
    "user_feedback = ['Great service', 'Friendly staff', 'Could improve wait times', 'Excellent food']\n",
    "\n",
    "# Adding new feedback\n",
    "user_feedback.append('Loved the ambiance')\n",
    "user_feedback.append('Will come again')\n",
    "# Displaying all feedback\n",
    "print(\"User Feedback:\")\n",
    "for feedback in user_feedback:\n",
    "    print(\"-\", feedback)\n",
    "\n",
    "\n",
    "# Counting specific feedback occurrences\n",
    "\n",
    "positie_feedback_count = sum(1 for feedback in user_feedback if 'Great' in feedback or 'Excellent' in feedback)\n",
    "print(\"Number of positive feedbacks:\", positie_feedback_count)  "
   ]
  }
 ],
 "metadata": {
  "kernelspec": {
   "display_name": "open3d_env",
   "language": "python",
   "name": "python3"
  },
  "language_info": {
   "codemirror_mode": {
    "name": "ipython",
    "version": 3
   },
   "file_extension": ".py",
   "mimetype": "text/x-python",
   "name": "python",
   "nbconvert_exporter": "python",
   "pygments_lexer": "ipython3",
   "version": "3.10.16"
  }
 },
 "nbformat": 4,
 "nbformat_minor": 5
}
