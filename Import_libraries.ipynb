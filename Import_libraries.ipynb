{
 "cells": [
  {
   "cell_type": "code",
   "execution_count": 1,
   "id": "8c0a51dd",
   "metadata": {},
   "outputs": [],
   "source": [
    "# Importing modules in Python program"
   ]
  },
  {
   "cell_type": "code",
   "execution_count": null,
   "id": "231c111f",
   "metadata": {},
   "outputs": [
    {
     "data": {
      "text/plain": [
       "4.0"
      ]
     },
     "execution_count": 2,
     "metadata": {},
     "output_type": "execute_result"
    }
   ],
   "source": [
    "import math\n",
    "math.sqrt(16)   "
   ]
  },
  {
   "cell_type": "code",
   "execution_count": 12,
   "id": "cf675d64",
   "metadata": {},
   "outputs": [
    {
     "name": "stdout",
     "output_type": "stream",
     "text": [
      "5.0\n",
      "1.7724538509055159\n",
      "3.141592653589793\n"
     ]
    }
   ],
   "source": [
    "from math import sqrt, pi\n",
    "print(sqrt(25))\n",
    "print(sqrt(pi))\n",
    "print(pi)"
   ]
  },
  {
   "cell_type": "code",
   "execution_count": 11,
   "id": "9ff03167",
   "metadata": {},
   "outputs": [
    {
     "name": "stdout",
     "output_type": "stream",
     "text": [
      "[1 2 3 4 5]\n"
     ]
    }
   ],
   "source": [
    "import numpy as np\n",
    "array = np.array([1, 2, 3, 4, 5])\n",
    "print(array)"
   ]
  },
  {
   "cell_type": "code",
   "execution_count": 13,
   "id": "4b4c3537",
   "metadata": {},
   "outputs": [
    {
     "data": {
      "text/plain": [
       "6.0"
      ]
     },
     "execution_count": 13,
     "metadata": {},
     "output_type": "execute_result"
    }
   ],
   "source": [
    "from math import *\n",
    "sqrt(36)"
   ]
  },
  {
   "cell_type": "code",
   "execution_count": 2,
   "id": "506fba39",
   "metadata": {},
   "outputs": [
    {
     "data": {
      "text/plain": [
       "15"
      ]
     },
     "execution_count": 2,
     "metadata": {},
     "output_type": "execute_result"
    }
   ],
   "source": [
    "from package import math\n",
    "math.addition(5, 10)"
   ]
  },
  {
   "cell_type": "code",
   "execution_count": 4,
   "id": "f0781881",
   "metadata": {},
   "outputs": [
    {
     "name": "stdout",
     "output_type": "stream",
     "text": [
      "5\n",
      "20\n",
      "5.0\n"
     ]
    }
   ],
   "source": [
    "print(math.subtraction(10, 5))\n",
    "print(math.multiplication(4, 5))\n",
    "print(math.division(20, 4))"
   ]
  },
  {
   "cell_type": "code",
   "execution_count": 5,
   "id": "9ba792a4",
   "metadata": {},
   "outputs": [
    {
     "name": "stdout",
     "output_type": "stream",
     "text": [
      "/home/subhamchakraborty/Default_download/pytorch_practice/python_KN_tutorial/modules\n",
      "['Import_libraries.ipynb', 'package', 'test.py']\n"
     ]
    }
   ],
   "source": [
    "import os\n",
    "print(os.getcwd())\n",
    "print(os.listdir('.'))"
   ]
  },
  {
   "cell_type": "code",
   "execution_count": 6,
   "id": "30b4ba70",
   "metadata": {},
   "outputs": [],
   "source": [
    "os.mkdir('test_dir')"
   ]
  },
  {
   "cell_type": "code",
   "execution_count": 12,
   "id": "5b4e98b2",
   "metadata": {},
   "outputs": [
    {
     "name": "stdout",
     "output_type": "stream",
     "text": [
      "Created missing source file: /home/subhamchakraborty/Default_download/pytorch_practice/python_KN_tutorial/modules/source.txt  \n",
      "Copied /home/subhamchakraborty/Default_download/pytorch_practice/python_KN_tutorial/modules/source.txt   to /home/subhamchakraborty/Default_download/pytorch_practice/python_KN_tutorial/modules/destination.txt\n"
     ]
    }
   ],
   "source": [
    "## High-llevel operations with files and collections of files\n",
    "import shutil\n",
    "src = '/home/subhamchakraborty/Default_download/pytorch_practice/python_KN_tutorial/modules/source.txt  '\n",
    "dst = '/home/subhamchakraborty/Default_download/pytorch_practice/python_KN_tutorial/modules/destination.txt'\n",
    "\n",
    "# ensure source exists to avoid FileNotFoundError\n",
    "if not os.path.exists(src):\n",
    "\twith open(src, 'w') as f:\n",
    "\t\tf.write('Sample content\\n')\n",
    "\tprint(f\"Created missing source file: {src}\")\n",
    "\n",
    "shutil.copy(src, dst)  # Copy a file\n",
    "print(f\"Copied {src} to {dst}\")\n"
   ]
  },
  {
   "cell_type": "code",
   "execution_count": 13,
   "id": "70e065d1",
   "metadata": {},
   "outputs": [
    {
     "name": "stdout",
     "output_type": "stream",
     "text": [
      "{\"name\": \"Alice\", \"age\": 30, \"city\": \"New York\"}\n",
      "<class 'str'>\n",
      "{'name': 'Alice', 'age': 30, 'city': 'New York'}\n",
      "<class 'dict'>\n"
     ]
    }
   ],
   "source": [
    "### Data Serialization\n",
    "\n",
    "import json \n",
    "data = {'name': 'Alice', 'age': 30, 'city': 'New York'}\n",
    "\n",
    "json_string = json.dumps(data)\n",
    "print(json_string)\n",
    "print(type(json_string))\n",
    "\n",
    "parsed_json_data = json.loads(json_string)\n",
    "print(parsed_json_data)\n",
    "print(type(parsed_json_data))"
   ]
  },
  {
   "cell_type": "code",
   "execution_count": 14,
   "id": "3053bd8e",
   "metadata": {},
   "outputs": [
    {
     "name": "stdout",
     "output_type": "stream",
     "text": [
      "['Name', 'Age', 'City']\n",
      "['Alice', '30', 'New York']\n",
      "['Bob', '25', 'Los Angeles']\n"
     ]
    }
   ],
   "source": [
    "### CSV \n",
    "\n",
    "import csv\n",
    "\n",
    "with open('example.csv',mode='w', newline='') as file: # newline='' to avoid blank lines on Windows\n",
    "    writer = csv.writer(file) # Create a CSV writer object\n",
    "    writer.writerow(['Name', 'Age', 'City'])\n",
    "    writer.writerow(['Alice', 30, 'New York'])\n",
    "    writer.writerow(['Bob', 25, 'Los Angeles'])\n",
    "\n",
    "with open('example.csv', mode='r') as file: # Open the file in read mode\n",
    "    reader = csv.reader(file) # Create a CSV reader object\n",
    "    for row in reader: # Iterate over the rows in the CSV\n",
    "        print(row)"
   ]
  },
  {
   "cell_type": "code",
   "execution_count": null,
   "id": "83a8d777",
   "metadata": {},
   "outputs": [],
   "source": []
  },
  {
   "cell_type": "code",
   "execution_count": 26,
   "id": "296b0e0e",
   "metadata": {},
   "outputs": [
    {
     "name": "stdout",
     "output_type": "stream",
     "text": [
      "Current date and time: 2025-10-20 23:25:57.134770\n",
      "Yeasterday date and time: 2025-10-19 23:25:57.134770\n",
      "Formatted date and time: 2025-10-20 23:25:57\n"
     ]
    }
   ],
   "source": [
    "### Date and Time Manipulation\n",
    "\n",
    "from datetime import datetime, timedelta    \n",
    "now = datetime.now()\n",
    "print(\"Current date and time:\", now)\n",
    "\n",
    "yeasterday = now - timedelta(days=1)\n",
    "print(\"Yeasterday date and time:\", yeasterday)\n",
    "\n",
    "# Dynamic datetime display \n",
    "formatted_date = now.strftime(\"%Y-%m-%d %H:%M:%S\")\n",
    "print(\"Formatted date and time:\", formatted_date)\n"
   ]
  },
  {
   "cell_type": "code",
   "execution_count": null,
   "id": "e72f056a",
   "metadata": {},
   "outputs": [],
   "source": []
  },
  {
   "cell_type": "code",
   "execution_count": 27,
   "id": "430ac20b",
   "metadata": {},
   "outputs": [
    {
     "name": "stdout",
     "output_type": "stream",
     "text": [
      "Matches found: ['foo', 'foo']\n"
     ]
    }
   ],
   "source": [
    "### Regular Expressions\n",
    "\n",
    "import re \n",
    "pattern = r'\\bfoo\\b'\n",
    "text = 'foo bar baz fooqux foobar foo'\n",
    "matches = re.findall(pattern, text)\n",
    "print(\"Matches found:\", matches)  # Output: ['foo', 'foo']  "
   ]
  },
  {
   "cell_type": "code",
   "execution_count": 28,
   "id": "71510615",
   "metadata": {},
   "outputs": [
    {
     "name": "stdout",
     "output_type": "stream",
     "text": [
      "Email matches found: ['support@example.com']\n"
     ]
    }
   ],
   "source": [
    "pattern_email = r'[a-zA-Z0-9._%+-]+@[a-zA-Z0-9.-]+\\.[a-zA-Z]{2,}'\n",
    "text_email = 'Please contact us at support@example.com for assistance.'\n",
    "matches_email = re.findall(pattern_email, text_email)\n",
    "print(\"Email matches found:\", matches_email)\n"
   ]
  },
  {
   "cell_type": "code",
   "execution_count": 30,
   "id": "47de5576",
   "metadata": {},
   "outputs": [
    {
     "name": "stdout",
     "output_type": "stream",
     "text": [
      "Number matches found: ['2', '3']\n",
      "Number of matches found: 2\n"
     ]
    }
   ],
   "source": [
    "pattern1 = r'\\d+' # Matches one or more digits\n",
    "text1 = 'There are 2 apples and 3 bananas.'\n",
    "matches1 = re.findall(pattern1, text1) # Find all matches\n",
    "print(\"Number matches found:\", matches1)\n",
    "print(\"Number of matches found:\", len(matches1))"
   ]
  },
  {
   "cell_type": "code",
   "execution_count": null,
   "id": "04723575",
   "metadata": {},
   "outputs": [],
   "source": []
  }
 ],
 "metadata": {
  "kernelspec": {
   "display_name": "open3d_env",
   "language": "python",
   "name": "python3"
  },
  "language_info": {
   "codemirror_mode": {
    "name": "ipython",
    "version": 3
   },
   "file_extension": ".py",
   "mimetype": "text/x-python",
   "name": "python",
   "nbconvert_exporter": "python",
   "pygments_lexer": "ipython3",
   "version": "3.10.16"
  }
 },
 "nbformat": 4,
 "nbformat_minor": 5
}
